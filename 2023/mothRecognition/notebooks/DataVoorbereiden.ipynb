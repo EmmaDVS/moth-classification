{
 "cells": [
  {
   "cell_type": "markdown",
   "id": "088fe6b2-3dd3-47cd-9daf-dc58eeea7f49",
   "metadata": {},
   "source": [
    "# Data voorbereiden"
   ]
  },
  {
   "cell_type": "markdown",
   "id": "b4d2a279-4d7f-4c1d-aba7-9060a9d7c3d0",
   "metadata": {},
   "source": [
    "Dit Notebook moet gebruikt worden vóór het trainen van de beeldherkenning (Beeldherkenning.ipynb).\n",
    "\n",
    "In de volgende code worden data schoongemaakt en samengevoegd. De volgende opties kunnen ingesteld worden:\n",
    "1. Welke folders samengevoegd moeten worden\n",
    "2. Welke folders hernoemd moeten worden\n",
    "3. Welke folders overgeslagen/genegeerd moeten worden\n",
    "\n",
    "Het resultaat kost niet zoveel data, omdat er alleen links naar de originele (afbeeldings)bestanden gecreëert worden. De bestanden worden dus **niet** gekopieerd."
   ]
  },
  {
   "cell_type": "markdown",
   "id": "17d905b8-e5b4-4d71-9393-af36b5e81511",
   "metadata": {},
   "source": [
    "## Imports"
   ]
  },
  {
   "cell_type": "code",
   "execution_count": 1,
   "id": "0edfcdb2-8268-497a-b6f5-a6223ea24d23",
   "metadata": {},
   "outputs": [],
   "source": [
    "import csv\n",
    "import random\n",
    "from pathlib import Path\n",
    "from joblib import Parallel, delayed\n",
    "from PIL import Image\n",
    "from tqdm import tqdm\n"
   ]
  },
  {
   "cell_type": "markdown",
   "id": "5dc8adc0-64b2-44bd-918f-860950592238",
   "metadata": {},
   "source": [
    "## Instellingen\n",
    "\n",
    "Pas deze variabelen aan voor de situatie.\n",
    "\n",
    "- data_path: pad naar de folder waar het resultaat (= de gecombineerde dataset) geplaatst wordt. Het resultaat zal als volgt zijn:\n",
    "  ```\n",
    "    ├── data_path\n",
    "    │   ├── Klasse A\n",
    "    │   ├── Klasse B\n",
    "    │   └── Klasse C\n",
    "  ```\n",
    "- label_translation_path: naam van het bestand waarin staat welke folders hernoemd moeten worden\n",
    "- label_combination_path: naam van het bestand waarin staat welke folders gecombineerd moeten worden\n",
    "- delimiter: scheidingsteken in de .csv bestanden\n",
    "- encoding: encoding van de .csv bestanden. Deze moet aangepast worden als de bestanden verkeerd worden ingelezen (bv. verkeerde leestekens)\n",
    "- import_paths: paden naar folders waar data staan die gecombineerd moeten worden tot één dataset. In elke folder moeten folders staan per klasse. Voorbeeld:\n",
    "  ```\n",
    "    ├── import_paths[0]\n",
    "    │   ├── Klasse A\n",
    "    │   └── Klasse B\n",
    "    ├── import_paths[1]\n",
    "    │   ├── Klasse B\n",
    "    │   └── Klasse C\n",
    "    └── etc...\n",
    "  ```\n",
    "  NB: de import_paths kunnen in verschillende directories staan.\n"
   ]
  },
  {
   "cell_type": "code",
   "execution_count": 3,
   "id": "41f22b12",
   "metadata": {},
   "outputs": [],
   "source": [
    "output_folder_name = 'dataset'\n",
    "\n",
    "label_combination_path = ''  # '/data/mothRecognition/resources/pseudospecies_beeldherkenning_V20230906.csv'\n",
    "sub_label_index = 0\n",
    "combo_label_index = 2\n",
    "\n",
    "label_translation_path = '/data/mothRecognition/resources/EngelseNamenCompleet.csv'\n",
    "old_label_index = 0\n",
    "new_label_index = 1\n",
    "\n",
    "delimiter = ';'\n",
    "encoding = 'windows-1252'\n",
    "\n",
    "char_replacements = {'/': '-',\n",
    "                     '_': '-',\n",
    "                     '.': ''}\n",
    "\n",
    "import_paths = [Path('')\n",
    "    Path('/data/mothRecognition/data/IRecord/moths_images'),\n",
    "                Path('/data/mothRecognition/data/raam'),\n",
    "                Path('/data/mothRecognition/data/telmee/photos'),\n",
    "                Path('/data/mothRecognition/data/lepiforum/macro'),\n",
    "                Path('/data/mothRecognition/data/lepiforum/micro'),\n",
    "                Path('/data/mothRecognition/data/meetnet'),\n",
    "                Path('/data/mothRecognition/data/gbif/micro_photos_gbif_15'),\n",
    "                Path('/data/mothRecognition/data/gbif/micro_photos_gbif_16'),\n",
    "                Path('/data/mothRecognition/data/gbif/micro_photos_gbif_17'),\n",
    "                Path('/data/mothRecognition/data/gbif/micro_photos_gbif_18'),\n",
    "                Path('/data/mothRecognition/data/gbif/micro_photos_gbif_19'),\n",
    "                Path('/data/mothRecognition/data/gbif/micro_photos_gbif_20'),\n",
    "                Path('/data/mothRecognition/data/gbif/micro_photos_gbif_21_22')]\n",
    "\n",
    "n_jobs = 10\n"
   ]
  },
  {
   "cell_type": "markdown",
   "id": "e1b7bd54-5f8f-4735-88ed-413c8cdfdae2",
   "metadata": {},
   "source": [
    "## Voorbereiding\n",
    "\n",
    "Laad de bestanden met informatie over de klassen (label_translation_path & label_combination_path)."
   ]
  },
  {
   "cell_type": "markdown",
   "id": "d9484662-5775-4f7e-bf98-6f7c7ac180a2",
   "metadata": {},
   "source": [
    "### Labels combineren"
   ]
  },
  {
   "cell_type": "code",
   "execution_count": 4,
   "id": "39d63693-f246-415b-b7ab-931c7dfb986f",
   "metadata": {},
   "outputs": [],
   "source": [
    "combo_dict = {}\n",
    "if label_combination_path != '':\n",
    "    with open(label_combination_path, 'r', encoding=encoding) as combination_file:\n",
    "        reader = csv.reader(combination_file, delimiter=delimiter)\n",
    "        headers = next(reader)\n",
    "        print(f'Kolomnamen in {label_combination_path}: {headers}')\n",
    "        print(f\"sub_label_index points to '{headers[sub_label_index]}'\")\n",
    "        print(f\"combo_label_index points to '{headers[combo_label_index]}'\")\n",
    "    \n",
    "        for row in reader:\n",
    "            if row[sub_label_index] != '':\n",
    "                sub_label = row[sub_label_index].lower()\n",
    "                combo_dict[sub_label] = row[combo_label_index].lower()\n",
    "                for old_char, new_char in char_replacements.items():\n",
    "                    combo_dict[sub_label] = combo_dict[sub_label].replace(old_char, new_char)\n",
    "    \n",
    "combo_labels = list(set(combo_dict.values()))\n"
   ]
  },
  {
   "cell_type": "code",
   "execution_count": 5,
   "id": "fdf46041-ddaf-40e6-8310-3a7cf631cb66",
   "metadata": {},
   "outputs": [],
   "source": [
    "if len(combo_dict) > 0:\n",
    "    print(f'Er zullen {len(combo_dict)} labels gecombineerd worden tot {len(combo_labels)} labels (verschil = {len(combo_dict) - len(combo_labels)})')\n",
    "    example_labels = random.sample(sorted(combo_dict), 3)\n",
    "    print(f'Voorbeelden van originele labels: {example_labels}')\n",
    "    print(f'Bijbehorende combinatie labels: {[combo_dict[label]for label in example_labels]}')\n"
   ]
  },
  {
   "cell_type": "markdown",
   "id": "07f31430-d119-43d5-8951-ad6b38715169",
   "metadata": {},
   "source": [
    "### Labels hernoemen"
   ]
  },
  {
   "cell_type": "code",
   "execution_count": 6,
   "id": "1473944b-d9d2-46e5-b4e3-fe45e70b2091",
   "metadata": {},
   "outputs": [
    {
     "name": "stdout",
     "output_type": "stream",
     "text": [
      "Kolomnamen in /data/mothRecognition/resources/EngelseNamenCompleet.csv: ['Engelse naam', 'Wetenschappelijke naam']\n",
      "old_label_index points to 'Engelse naam'\n",
      "new_label_index points to 'Wetenschappelijke naam'\n"
     ]
    }
   ],
   "source": [
    "alt_labels = {}\n",
    "if label_translation_path != '':\n",
    "    with open(label_translation_path, 'r') as translation_file:\n",
    "        reader = csv.reader(translation_file, delimiter=delimiter)\n",
    "        headers = next(reader)\n",
    "        print(f'Kolomnamen in {label_translation_path}: {headers}')\n",
    "        print(f\"old_label_index points to '{headers[old_label_index]}'\")\n",
    "        print(f\"new_label_index points to '{headers[new_label_index]}'\")\n",
    "    \n",
    "        for row in reader:\n",
    "            if row[old_label_index] != '':\n",
    "                alt_labels[row[old_label_index].lower()] = row[new_label_index].lower()\n"
   ]
  },
  {
   "cell_type": "code",
   "execution_count": 7,
   "id": "99b5184f-79c5-4481-bc83-9a726fdecf40",
   "metadata": {},
   "outputs": [
    {
     "name": "stdout",
     "output_type": "stream",
     "text": [
      "Aantal labels die vertaald/hernoemd gaan worden: 1158\n",
      "Voorbeelden van originele labels: ['chocolate-tip', 'beautiful china-mark', 'cistus forester']\n",
      "Bijbehorende hernoemde labels: ['clostera curtula', 'nymphula nitidulata', 'adscita geryon']\n"
     ]
    }
   ],
   "source": [
    "if len(alt_labels) > 0:\n",
    "    print(f'Aantal labels die vertaald/hernoemd gaan worden: {len(alt_labels)}')\n",
    "    example_labels = random.sample(sorted(alt_labels), 3)\n",
    "    print(f'Voorbeelden van originele labels: {example_labels}')\n",
    "    print(f'Bijbehorende hernoemde labels: {[alt_labels[label]for label in example_labels]}')\n"
   ]
  },
  {
   "cell_type": "markdown",
   "id": "ead081b9-9984-4266-9ef6-886670b2f89e",
   "metadata": {},
   "source": [
    "## Data valideren\n",
    "\n",
    "Voordat alle bestanden uit de folders tot één dataset gecombineerd worden, worden de kapotte bestanden eruit gefilterd. Het kan namelijk best voorkomen dat er afbeeldingen zijn die niet ingelezen kunnen worden. Die moeten niet in de uiteindelijke dataset zitten."
   ]
  },
  {
   "cell_type": "code",
   "execution_count": 8,
   "id": "29005498-a9e4-4223-a9e5-a4cb5b96d84c",
   "metadata": {},
   "outputs": [
    {
     "name": "stdout",
     "output_type": "stream",
     "text": [
      "Pad naar gecombineerde dataset: /data/mothRecognition/notebooks/datasetNotCombined\n"
     ]
    }
   ],
   "source": [
    "output_path = (Path('') / output_folder_name).absolute()\n",
    "print(f'Pad naar gecombineerde dataset: {output_path}')"
   ]
  },
  {
   "cell_type": "code",
   "execution_count": 9,
   "id": "91520014-8431-478c-91bf-d07ad550326b",
   "metadata": {},
   "outputs": [
    {
     "name": "stdout",
     "output_type": "stream",
     "text": [
      "Aantal bestanden die gevalideerd gaan worden: 1040047\n"
     ]
    }
   ],
   "source": [
    "paths_to_validate = []\n",
    "\n",
    "for path in import_paths:\n",
    "    for class_path in path.iterdir():\n",
    "        if not class_path.is_dir():\n",
    "            continue\n",
    "        for file_path in class_path.iterdir():\n",
    "            paths_to_validate.append(file_path.absolute())\n",
    "\n",
    "print(f'Aantal bestanden die gevalideerd gaan worden: {len(paths_to_validate)}')\n"
   ]
  },
  {
   "cell_type": "markdown",
   "id": "b749494f-49d3-46d6-9e07-840704033009",
   "metadata": {},
   "source": [
    "Hieronder staat de functie die gebruikt zal worden om de bestanden te valideren. Standaard word er geprobeerd het bestand te openen en om te zetten naar RGB. Als dat lukt, dan is het bestand in goede staat. Je kan dit aanpassen in het `try` blok, als je op een andere manier de bestanden wilt valideren."
   ]
  },
  {
   "cell_type": "code",
   "execution_count": 10,
   "id": "9b76cff4-f79c-4c93-a711-38a5ed5357eb",
   "metadata": {},
   "outputs": [],
   "source": [
    "def validate_path(file_path):\n",
    "    try:\n",
    "        image = Image.open(file_path).convert(\"RGB\")\n",
    "        exif = image.getexif()\n",
    "    except Exception as e:\n",
    "        return file_path, False        \n",
    "    else:\n",
    "        return file_path, True\n"
   ]
  },
  {
   "cell_type": "code",
   "execution_count": 11,
   "id": "38c1c505-0716-4c70-a369-a77c55cc0272",
   "metadata": {
    "scrolled": true
   },
   "outputs": [
    {
     "name": "stderr",
     "output_type": "stream",
     "text": [
      " 58%|███████████████████████████████████████████████████████████████████████████████████████████████▎                                                                   | 608300/1040047 [05:50<03:07, 2305.70it/s]/home/farfalla/miniconda3/envs/ml/lib/python3.11/site-packages/PIL/TiffImagePlugin.py:866: UserWarning: Corrupt EXIF data.  Expecting to read 2 bytes but only got 0. \n",
      "  warnings.warn(str(msg))\n",
      " 59%|███████████████████████████████████████████████████████████████████████████████████████████████▍                                                                   | 609260/1040047 [05:50<02:51, 2514.32it/s]/home/farfalla/miniconda3/envs/ml/lib/python3.11/site-packages/PIL/TiffImagePlugin.py:866: UserWarning: Corrupt EXIF data.  Expecting to read 2 bytes but only got 0. \n",
      "  warnings.warn(str(msg))\n",
      " 59%|████████████████████████████████████████████████████████████████████████████████████████████████▏                                                                  | 614060/1040047 [05:52<02:35, 2744.50it/s]/home/farfalla/miniconda3/envs/ml/lib/python3.11/site-packages/PIL/TiffImagePlugin.py:866: UserWarning: Corrupt EXIF data.  Expecting to read 2 bytes but only got 0. \n",
      "  warnings.warn(str(msg))\n",
      " 60%|██████████████████████████████████████████████████████████████████████████████████████████████████                                                                 | 625900/1040047 [05:56<02:50, 2429.86it/s]/home/farfalla/miniconda3/envs/ml/lib/python3.11/site-packages/PIL/TiffImagePlugin.py:866: UserWarning: Corrupt EXIF data.  Expecting to read 2 bytes but only got 0. \n",
      "  warnings.warn(str(msg))\n",
      " 61%|██████████████████████████████████████████████████████████████████████████████████████████████████▉                                                                | 631340/1040047 [05:59<02:57, 2301.36it/s]/home/farfalla/miniconda3/envs/ml/lib/python3.11/site-packages/PIL/TiffImagePlugin.py:866: UserWarning: Corrupt EXIF data.  Expecting to read 2 bytes but only got 0. \n",
      "  warnings.warn(str(msg))\n",
      " 64%|████████████████████████████████████████████████████████████████████████████████████████████████████████▉                                                           | 665510/1040047 [10:21<58:51, 106.05it/s]/home/farfalla/miniconda3/envs/ml/lib/python3.11/site-packages/PIL/Image.py:3157: DecompressionBombWarning: Image size (108000000 pixels) exceeds limit of 89478485 pixels, could be decompression bomb DOS attack.\n",
      "  warnings.warn(\n",
      " 72%|██████████████████████████████████████████████████████████████████████████████████████████████████████████████████████                                             | 753230/1040047 [12:13<03:51, 1240.12it/s]/home/farfalla/miniconda3/envs/ml/lib/python3.11/site-packages/PIL/TiffImagePlugin.py:866: UserWarning: Truncated File Read\n",
      "  warnings.warn(str(msg))\n",
      "100%|██████████████████████████████████████████████████████████████████████████████████████████████████████████████████████████████████████████████████████████████████| 1040047/1040047 [16:34<00:00, 1045.41it/s]\n"
     ]
    }
   ],
   "source": [
    "validation_results = Parallel(n_jobs=n_jobs)(\n",
    "    delayed(validate_path)(p) for p in tqdm(paths_to_validate)\n",
    ")\n",
    "\n",
    "valid_paths = [p for p, valid in validation_results if valid]\n"
   ]
  },
  {
   "cell_type": "code",
   "execution_count": 12,
   "id": "0ba19314-53a9-449d-96ac-f0402af12b81",
   "metadata": {},
   "outputs": [
    {
     "name": "stdout",
     "output_type": "stream",
     "text": [
      "1039684 bestandspaden zijn valide, en 363 paden zijn afgekeurd.\n"
     ]
    }
   ],
   "source": [
    "print(f'{len(valid_paths)} bestandspaden zijn valide, en {len(paths_to_validate) - len(valid_paths)} paden zijn afgekeurd.')"
   ]
  },
  {
   "cell_type": "markdown",
   "id": "3b690d80-9d8f-40b5-90c6-867b2a746129",
   "metadata": {},
   "source": [
    "## Data combineren naar één dataset"
   ]
  },
  {
   "cell_type": "markdown",
   "id": "cbb706c3-faaf-4a95-82f1-ce523f86ee95",
   "metadata": {},
   "source": [
    "Nu alle data gevalideerd (of afgekeurd) is, kunnen de verschillende databronnen gecombineerd worden tot één dataset.\n",
    "\n",
    "De verschillende stappen zijn:\n",
    "1. Hernoemen van labels (staan in `alt_labels`)\n",
    "2. Filteren van klasses hoger dan soortniveau die *niet* in `combo_labels` voorkomen\n",
    "    - Alle labels op soortniveau worden naar '\\[Genus\\] spec' geformatteerd\n",
    "4. Opschonen van de labels m.b.v. `char_replacements`\n",
    "5. Pseudo-/combinatiesoorten wegfilteren als ze *niet* in `combo_labels` voorkomen\n",
    "6. Soorten herlabellen als pseudo-/combinatiesoort als ze *wel* in `combo_labels` voorkomen\n",
    "7. Subsoorten wegfilteren\n",
    "\n",
    "Het resultaat is dat er alleen labels op soortniveau zijn, tenzij er een uitzondering voor een pseudo-/combinatiesoort was. Soorten met verschillende namen zijn samengevoegd onder één label."
   ]
  },
  {
   "cell_type": "code",
   "execution_count": 13,
   "id": "41cbff8c-e585-49f2-955e-33102f8c3147",
   "metadata": {},
   "outputs": [
    {
     "name": "stderr",
     "output_type": "stream",
     "text": [
      "1039684it [00:24, 42677.18it/s]"
     ]
    },
    {
     "name": "stdout",
     "output_type": "stream",
     "text": [
      "\n",
      "1037930 links naar de originele bestanden zijn geplaatst in /data/mothRecognition/notebooks/datasetNotCombined\n",
      "2117 bestanden zijn overgeslagen, waarvan:\n",
      "  363 niet door de validatie zijn gekomen\n",
      "  1667 pseudo-/combinatiesoorten zijn die niet uitgezonderd waren\n",
      "  70 niet op soortniveau, maar op genusniveau gedefinieerd waren\n",
      "  17 niet op soortniveau, subsoortniveau gedefinieerd waren\n"
     ]
    },
    {
     "name": "stderr",
     "output_type": "stream",
     "text": [
      "\n"
     ]
    }
   ],
   "source": [
    "n_pseudospecies_images = 0\n",
    "n_genus_images = 0\n",
    "n_subspecies_images = 0\n",
    "\n",
    "for i, path in tqdm(enumerate(valid_paths)):    \n",
    "    class_name = path.parent.name.lower()\n",
    "    \n",
    "    # Replace alternative labels with real labels\n",
    "    if class_name in alt_labels:\n",
    "        class_name = alt_labels[class_name]\n",
    "\n",
    "    # Combine sp., sp, (...), and only genus to spec\n",
    "    split = class_name.split()\n",
    "    if len(split) == 1 or split[1][0] == '(' or split[1] == 'sp.' or split[1] == 'sp' or split[1].startswith('agg'):\n",
    "        class_name = split[0] + ' spec'\n",
    "        # Only keep this label if it is specified in combo_labels\n",
    "        if class_name not in combo_labels:\n",
    "            n_genus_images += 1\n",
    "            continue\n",
    "    \n",
    "    # Replace certain characters\n",
    "    for old_char, new_char in char_replacements.items():\n",
    "        class_name = class_name.replace(old_char, new_char)\n",
    "\n",
    "    # Remove non-allowed pseudospecies\n",
    "    split = class_name.split()[1].split(\"-\")\n",
    "    if class_name not in combo_labels and len(split) > 1 and len(split[0]) > 1:\n",
    "        n_pseudospecies_images += 1\n",
    "        continue\n",
    "\n",
    "    # Combine the combo species\n",
    "    if class_name in combo_dict:\n",
    "        class_name = combo_dict[class_name]\n",
    "\n",
    "    # Remove subspecies\n",
    "    split = class_name.split(\" f \")\n",
    "    if len(split) > 1:\n",
    "        n_subspecies_images += 1\n",
    "        continue\n",
    "    \n",
    "    symbolic_link_path = (output_path / class_name / f\"{i:07}\").with_suffix(\n",
    "        path.suffix\n",
    "    )\n",
    "    symbolic_link_path.parent.mkdir(exist_ok=True, parents=True)\n",
    "    symbolic_link_path.unlink(missing_ok=True)\n",
    "    symbolic_link_path.symlink_to(path)\n",
    "\n",
    "skipped_images = len(paths_to_validate) - len(valid_paths) + n_pseudospecies_images + n_genus_images + n_subspecies_images\n",
    "\n",
    "print(f\"\\n{len(paths_to_validate) - skipped_images} links naar de originele bestanden zijn geplaatst in {str(output_path)}\")\n",
    "print(f\"{skipped_images} bestanden zijn overgeslagen, waarvan:\")\n",
    "print(f\"  {len(paths_to_validate) - len(valid_paths)} niet door de validatie zijn gekomen\")\n",
    "print(f\"  {n_pseudospecies_images} pseudo-/combinatiesoorten zijn die niet uitgezonderd waren\")\n",
    "print(f\"  {n_genus_images} niet op soortniveau, maar op genusniveau gedefinieerd waren\")\n",
    "print(f\"  {n_subspecies_images} niet op soortniveau, subsoortniveau gedefinieerd waren\")\n"
   ]
  },
  {
   "cell_type": "markdown",
   "id": "ce148691-61cc-48f9-ade9-8728ce7e4026",
   "metadata": {},
   "source": [
    "## Conclusie\n",
    "\n",
    "Het resultaat van dit notebook is een gecombineerde en opgeschoonde dataset die gebruikt kan worden voor o.a. machine learning. De volgende stap is om de dataset te gebruiken voor het andere notebook (BeeldherkenningTrainen.ipynb)."
   ]
  }
 ],
 "metadata": {
  "kernelspec": {
   "display_name": "ml",
   "language": "python",
   "name": "ml"
  },
  "language_info": {
   "codemirror_mode": {
    "name": "ipython",
    "version": 3
   },
   "file_extension": ".py",
   "mimetype": "text/x-python",
   "name": "python",
   "nbconvert_exporter": "python",
   "pygments_lexer": "ipython3",
   "version": "3.11.5"
  }
 },
 "nbformat": 4,
 "nbformat_minor": 5
}
