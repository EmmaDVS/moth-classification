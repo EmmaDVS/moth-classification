{
 "cells": [
  {
   "cell_type": "markdown",
   "metadata": {},
   "source": [
    "What do I want to know?\n",
    "\n",
    "- How many are placed in 'other'?\n",
    "- per level:\n",
    "    - number of sublevels\n",
    "    - commulative number of samples"
   ]
  },
  {
   "cell_type": "code",
   "execution_count": null,
   "metadata": {},
   "outputs": [],
   "source": [
    "from pathlib import Path\n",
    "from collections import defaultdict"
   ]
  },
  {
   "cell_type": "code",
   "execution_count": null,
   "metadata": {},
   "outputs": [],
   "source": [
    "import seaborn as sns\n",
    "import matplotlib.pyplot as plt"
   ]
  },
  {
   "cell_type": "code",
   "execution_count": null,
   "metadata": {},
   "outputs": [],
   "source": [
    "from moths.label_hierarchy import label_hierarchy_from_file"
   ]
  },
  {
   "cell_type": "code",
   "execution_count": null,
   "metadata": {},
   "outputs": [],
   "source": [
    "sns.set_style(\"darkgrid\")"
   ]
  },
  {
   "cell_type": "code",
   "execution_count": null,
   "metadata": {},
   "outputs": [],
   "source": [
    "label_hierarchy_path = Path(\"/home/vlinderstichting/Data/moths/data/family.csv\")\n",
    "data_source_path = Path(\"/home/vlinderstichting/Data/moths/artifacts/image_folder\")"
   ]
  },
  {
   "cell_type": "code",
   "execution_count": null,
   "metadata": {},
   "outputs": [],
   "source": [
    "label_hierarchy = label_hierarchy_from_file(label_hierarchy_path, data_source_path, 50)"
   ]
  },
  {
   "cell_type": "code",
   "execution_count": null,
   "metadata": {},
   "outputs": [],
   "source": []
  },
  {
   "cell_type": "code",
   "execution_count": null,
   "metadata": {},
   "outputs": [],
   "source": [
    "# klass: (group, family, genus)"
   ]
  },
  {
   "cell_type": "code",
   "execution_count": null,
   "metadata": {},
   "outputs": [],
   "source": [
    "class_counts = {p.name: len(list(p.iterdir())) for p in data_source_path.iterdir()}"
   ]
  },
  {
   "cell_type": "code",
   "execution_count": null,
   "metadata": {},
   "outputs": [],
   "source": [
    "label_tree = defaultdict(lambda: defaultdict(lambda: defaultdict( lambda: dict())))"
   ]
  },
  {
   "cell_type": "code",
   "execution_count": null,
   "metadata": {},
   "outputs": [],
   "source": [
    "label_tree['Other']['Other']['Other']['Other'] = 0\n",
    "for klass, count in class_counts.items():\n",
    "    \n",
    "    if klass in label_hierarchy.name_map:\n",
    "        group, family, genus = label_hierarchy.name_map[klass]\n",
    "        label_tree[group][family][genus][klass] = count\n",
    "    else:\n",
    "        label_tree['Other']['Other']['Other']['Other'] +=  count"
   ]
  },
  {
   "cell_type": "code",
   "execution_count": null,
   "metadata": {},
   "outputs": [],
   "source": [
    "def node_leaf_sum(node):\n",
    "    if isinstance(node, int):\n",
    "        return node\n",
    "    else:\n",
    "        return sum([node_leaf_sum(child) for child in node.values()])"
   ]
  },
  {
   "cell_type": "code",
   "execution_count": null,
   "metadata": {},
   "outputs": [],
   "source": [
    "node_leaf_sum(label_tree)"
   ]
  },
  {
   "cell_type": "code",
   "execution_count": null,
   "metadata": {},
   "outputs": [],
   "source": [
    "def node_species_dict(node):\n",
    "    def _node_species_dict(_node, _out):\n",
    "        first_value = list(_node.values())[0]\n",
    "        if isinstance(first_value, int):\n",
    "            _out.update(_node)\n",
    "        else:\n",
    "            for child in _node.values():\n",
    "                _node_species_dict(child, _out)\n",
    "        \n",
    "    out = {}\n",
    "    _node_species_dict(node, out)\n",
    "    return out"
   ]
  },
  {
   "cell_type": "code",
   "execution_count": null,
   "metadata": {},
   "outputs": [],
   "source": [
    "node_species_dict(label_tree)"
   ]
  },
  {
   "cell_type": "code",
   "execution_count": null,
   "metadata": {},
   "outputs": [],
   "source": [
    "def sort_dict_other_last(counts):\n",
    "    has_other = \"Other\" in counts\n",
    "    \n",
    "    if has_other:\n",
    "        other_count = counts[\"Other\"]\n",
    "        del counts[\"Other\"]\n",
    "    \n",
    "    count_list = sorted([(k, c) for k, c in counts.items()], key=lambda t: t[1], reverse=True)\n",
    "\n",
    "    if has_other:\n",
    "        count_list.append((\"Other\", other_count))\n",
    "\n",
    "    return count_list"
   ]
  },
  {
   "cell_type": "code",
   "execution_count": null,
   "metadata": {},
   "outputs": [],
   "source": [
    "sort_dict_other_last(node_species_dict(label_tree))"
   ]
  },
  {
   "cell_type": "code",
   "execution_count": null,
   "metadata": {},
   "outputs": [],
   "source": [
    "def plot_count_list(count_list):\n",
    "    plt.figure(figsize = (15,8))\n",
    "    ax = sns.barplot(x=[t[0] for t in count_list], y=[t[1] for t in count_list])\n",
    "    plt.xticks(rotation=90)"
   ]
  },
  {
   "cell_type": "code",
   "execution_count": null,
   "metadata": {},
   "outputs": [],
   "source": [
    "plot_count_list(sort_dict_other_last(node_species_dict(label_tree)))"
   ]
  },
  {
   "cell_type": "code",
   "execution_count": null,
   "metadata": {},
   "outputs": [],
   "source": [
    "noctuidae_classes = {c: class_counts[c] for c, (_, f, _) in label_hierarchy.name_map.items() if f == \"Noctuidae\"}"
   ]
  },
  {
   "cell_type": "code",
   "execution_count": null,
   "metadata": {},
   "outputs": [],
   "source": [
    "def plot_count_dict(count_dict):\n",
    "    count_list = sorted([(k, c) for k, c in count_dict.items()], key=lambda t: t[1], reverse=True)\n",
    "    other_list = [(i, k, c) for i, (k, c) in enumerate(count_list) if k == \"Other\"]\n",
    "    if len(other_list) > 0:\n",
    "        ix, kx, cx = other_list[0]\n",
    "        count_list.pop(ix)\n",
    "        count_list.append((kx, cx))\n",
    "\n",
    "    plt.figure(figsize = (15,8))\n",
    "    ax = sns.barplot(x=[t[0] for t in count_list], y=[t[1] for t in count_list])\n",
    "    plt.xticks(rotation=90)"
   ]
  },
  {
   "cell_type": "code",
   "execution_count": null,
   "metadata": {},
   "outputs": [],
   "source": [
    "len(noctuidae_classes)"
   ]
  },
  {
   "cell_type": "code",
   "execution_count": null,
   "metadata": {},
   "outputs": [],
   "source": [
    "plot_count_dict(noctuidae_classes)"
   ]
  },
  {
   "cell_type": "code",
   "execution_count": null,
   "metadata": {},
   "outputs": [],
   "source": [
    "plot_count_dict(class_counts)"
   ]
  },
  {
   "cell_type": "code",
   "execution_count": null,
   "metadata": {},
   "outputs": [],
   "source": [
    "group_dicts = {group: (node_leaf_sum(group_dict), len(node_species_dict(group_dict))) for group, group_dict in label_tree.items()}\n",
    "\n",
    "sort_dict_other_last(group_dicts)"
   ]
  },
  {
   "cell_type": "code",
   "execution_count": null,
   "metadata": {},
   "outputs": [],
   "source": [
    "family_dicts = {family: family_dict for group_dict in label_tree.values() for family, family_dict in group_dict.items()}\n",
    "family_dicts = {family: (len(node_species_dict(family_dict)), node_leaf_sum(family_dict)) for family, family_dict in family_dicts.items()}\n",
    "\n",
    "sort_dict_other_last(family_dicts)"
   ]
  },
  {
   "cell_type": "code",
   "execution_count": null,
   "metadata": {},
   "outputs": [],
   "source": [
    "genus_dicts = {genus: genus_dict for group_dict in label_tree.values() for family_dict in group_dict.values() for genus, genus_dict in family_dict.items()}\n",
    "genus_dicts = {genus: (node_leaf_sum(genus_dict), len(node_species_dict(genus_dict))) for genus, genus_dict in genus_dicts.items()}\n",
    "\n",
    "sort_dict_other_last(genus_dicts)"
   ]
  },
  {
   "cell_type": "code",
   "execution_count": null,
   "metadata": {},
   "outputs": [],
   "source": []
  }
 ],
 "metadata": {
  "kernelspec": {
   "display_name": "Python 3 (ipykernel)",
   "language": "python",
   "name": "python3"
  },
  "language_info": {
   "codemirror_mode": {
    "name": "ipython",
    "version": 3
   },
   "file_extension": ".py",
   "mimetype": "text/x-python",
   "name": "python",
   "nbconvert_exporter": "python",
   "pygments_lexer": "ipython3",
   "version": "3.9.6"
  }
 },
 "nbformat": 4,
 "nbformat_minor": 1
}
