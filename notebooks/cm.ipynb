{
 "cells": [
  {
   "cell_type": "code",
   "execution_count": null,
   "id": "19394205",
   "metadata": {},
   "outputs": [],
   "source": [
    "!pip install pycm\n",
    "!pip install pretty-confusion-matrix"
   ]
  },
  {
   "cell_type": "code",
   "execution_count": null,
   "id": "3d4e64d7",
   "metadata": {},
   "outputs": [],
   "source": [
    "import numpy as np\n",
    "from pycm import ConfusionMatrix\n",
    "import pickle\n",
    "import pandas as pd\n",
    "import matplotlib.pyplot as plt"
   ]
  },
  {
   "cell_type": "code",
   "execution_count": null,
   "id": "517c26ab",
   "metadata": {},
   "outputs": [],
   "source": [
    "with open(\"/home/kay/tasks/vlinder-cm/label_hierarchy.pkl\", \"rb\") as f:\n",
    "    label_hierarchy = pickle.load(f)"
   ]
  },
  {
   "cell_type": "code",
   "execution_count": null,
   "id": "d2e49ff5",
   "metadata": {},
   "outputs": [],
   "source": [
    "species_y = np.load(\"/home/kay/tasks/vlinder-cm/0_species_y.npy\")\n",
    "species_y_hat = np.load(\"/home/kay/tasks/vlinder-cm/0_species_y.npy\")"
   ]
  },
  {
   "cell_type": "code",
   "execution_count": null,
   "id": "1819646f",
   "metadata": {},
   "outputs": [],
   "source": [
    "family_y = np.load(\"/home/kay/tasks/vlinder-cm/2_family_y.npy\")\n",
    "family_y_hat = np.load(\"/home/kay/tasks/vlinder-cm/2_family_y_hat.npy\")"
   ]
  },
  {
   "cell_type": "code",
   "execution_count": null,
   "id": "4e143af0",
   "metadata": {},
   "outputs": [],
   "source": [
    "len(label_hierarchy.families)"
   ]
  },
  {
   "cell_type": "code",
   "execution_count": null,
   "id": "535c2da7",
   "metadata": {},
   "outputs": [],
   "source": [
    "cm_family = ConfusionMatrix(family_y, family_y_hat)\n",
    "cm_family.relabel(mapping={i: l for i, l in enumerate(label_hierarchy.families)})"
   ]
  },
  {
   "cell_type": "code",
   "execution_count": null,
   "id": "7e8efcb4",
   "metadata": {},
   "outputs": [],
   "source": []
  },
  {
   "cell_type": "code",
   "execution_count": null,
   "id": "5ac10d5a",
   "metadata": {},
   "outputs": [],
   "source": [
    "from sklearn.metrics import ConfusionMatrixDisplay\n",
    "import seaborn as sns"
   ]
  },
  {
   "cell_type": "code",
   "execution_count": null,
   "id": "dee6816a",
   "metadata": {},
   "outputs": [],
   "source": [
    "# plt.figure(figsize=(16, 16), dpi=160)\n",
    "# sns.heatmap(cf_matrix/np.sum(cf_matrix))"
   ]
  },
  {
   "cell_type": "code",
   "execution_count": null,
   "id": "cf93c537",
   "metadata": {},
   "outputs": [],
   "source": []
  },
  {
   "cell_type": "code",
   "execution_count": null,
   "id": "773227a0",
   "metadata": {},
   "outputs": [],
   "source": [
    "for i in range(len(label_hierarchy.families)):\n",
    "    spiecies_y_i = species_y[family_y == i]\n",
    "    spiecies_y_hat_i = species_y_hat[family_y == i]\n",
    "\n",
    "    if not np.array_equal(np.unique(spiecies_y_i), np.unique(spiecies_y_hat_i)):\n",
    "        print(np.unique(spiecies_y_i))\n",
    "        print(np.unique(spiecies_y_hat_i))\n",
    "        print(i)\n",
    "        break"
   ]
  },
  {
   "cell_type": "code",
   "execution_count": null,
   "id": "7c8ab7aa",
   "metadata": {},
   "outputs": [],
   "source": [
    "np.unique(spiecies_y_1)"
   ]
  },
  {
   "cell_type": "code",
   "execution_count": null,
   "id": "6f4f3cff",
   "metadata": {},
   "outputs": [],
   "source": [
    "np.unique(spiecies_y_hat_1)"
   ]
  },
  {
   "cell_type": "code",
   "execution_count": null,
   "id": "d42b6480",
   "metadata": {},
   "outputs": [],
   "source": [
    "cm_species_1 = ConfusionMatrix(spiecies_y_1, spiecies_y_hat_1)\n",
    "cm_species_1.relabel(\n",
    "    mapping={\n",
    "        i: l\n",
    "        for i, l in enumerate(label_hierarchy.classes)\n",
    "        if (i in np.unique(spiecies_y_0) or i in np.unique(spiecies_y_hat_1))\n",
    "    }\n",
    ")"
   ]
  },
  {
   "cell_type": "code",
   "execution_count": null,
   "id": "9e3c12e3",
   "metadata": {},
   "outputs": [],
   "source": [
    "cm_species_1"
   ]
  },
  {
   "cell_type": "code",
   "execution_count": null,
   "id": "b6d9954d",
   "metadata": {},
   "outputs": [],
   "source": [
    "cm_species_1.plot(normalized=False, number_label=True)"
   ]
  },
  {
   "cell_type": "code",
   "execution_count": null,
   "id": "afe8c91d",
   "metadata": {},
   "outputs": [],
   "source": []
  },
  {
   "cell_type": "code",
   "execution_count": null,
   "id": "aae389d8",
   "metadata": {},
   "outputs": [],
   "source": []
  },
  {
   "cell_type": "code",
   "execution_count": null,
   "id": "9bc71e46",
   "metadata": {},
   "outputs": [],
   "source": [
    "from pretty_confusion_matrix import pp_matrix_from_data\n",
    "from pretty_confusion_matrix import pp_matrix"
   ]
  },
  {
   "cell_type": "code",
   "execution_count": null,
   "id": "9386b395",
   "metadata": {},
   "outputs": [],
   "source": [
    "y_test = np.array(\n",
    "    [\n",
    "        1,\n",
    "        2,\n",
    "        3,\n",
    "        4,\n",
    "        5,\n",
    "        1,\n",
    "        2,\n",
    "        3,\n",
    "        4,\n",
    "        5,\n",
    "        1,\n",
    "        2,\n",
    "        3,\n",
    "        4,\n",
    "        5,\n",
    "        1,\n",
    "        2,\n",
    "        3,\n",
    "        4,\n",
    "        5,\n",
    "        1,\n",
    "        2,\n",
    "        3,\n",
    "        4,\n",
    "        5,\n",
    "        1,\n",
    "        2,\n",
    "        3,\n",
    "        4,\n",
    "        5,\n",
    "        1,\n",
    "        2,\n",
    "        3,\n",
    "        4,\n",
    "        5,\n",
    "        1,\n",
    "        2,\n",
    "        3,\n",
    "        4,\n",
    "        5,\n",
    "        1,\n",
    "        2,\n",
    "        3,\n",
    "        4,\n",
    "        5,\n",
    "        1,\n",
    "        2,\n",
    "        3,\n",
    "        4,\n",
    "        5,\n",
    "        1,\n",
    "        2,\n",
    "        3,\n",
    "        4,\n",
    "        5,\n",
    "        1,\n",
    "        2,\n",
    "        3,\n",
    "        4,\n",
    "        5,\n",
    "        1,\n",
    "        2,\n",
    "        3,\n",
    "        4,\n",
    "        5,\n",
    "        1,\n",
    "        2,\n",
    "        3,\n",
    "        4,\n",
    "        5,\n",
    "        1,\n",
    "        2,\n",
    "        3,\n",
    "        4,\n",
    "        5,\n",
    "        1,\n",
    "        2,\n",
    "        3,\n",
    "        4,\n",
    "        5,\n",
    "        1,\n",
    "        2,\n",
    "        3,\n",
    "        4,\n",
    "        5,\n",
    "        1,\n",
    "        2,\n",
    "        3,\n",
    "        4,\n",
    "        5,\n",
    "        1,\n",
    "        2,\n",
    "        3,\n",
    "        4,\n",
    "        5,\n",
    "        1,\n",
    "        2,\n",
    "        3,\n",
    "        4,\n",
    "        5,\n",
    "        1,\n",
    "        2,\n",
    "        3,\n",
    "        4,\n",
    "        5,\n",
    "        1,\n",
    "        2,\n",
    "        3,\n",
    "        4,\n",
    "        5,\n",
    "    ]\n",
    ")\n",
    "predic = np.array(\n",
    "    [\n",
    "        1,\n",
    "        2,\n",
    "        4,\n",
    "        3,\n",
    "        5,\n",
    "        1,\n",
    "        2,\n",
    "        4,\n",
    "        3,\n",
    "        5,\n",
    "        1,\n",
    "        2,\n",
    "        3,\n",
    "        4,\n",
    "        4,\n",
    "        1,\n",
    "        4,\n",
    "        3,\n",
    "        4,\n",
    "        5,\n",
    "        1,\n",
    "        2,\n",
    "        4,\n",
    "        4,\n",
    "        5,\n",
    "        1,\n",
    "        2,\n",
    "        4,\n",
    "        4,\n",
    "        5,\n",
    "        1,\n",
    "        2,\n",
    "        4,\n",
    "        4,\n",
    "        5,\n",
    "        1,\n",
    "        2,\n",
    "        4,\n",
    "        4,\n",
    "        5,\n",
    "        1,\n",
    "        2,\n",
    "        3,\n",
    "        3,\n",
    "        5,\n",
    "        1,\n",
    "        2,\n",
    "        3,\n",
    "        3,\n",
    "        5,\n",
    "        1,\n",
    "        2,\n",
    "        3,\n",
    "        4,\n",
    "        4,\n",
    "        1,\n",
    "        2,\n",
    "        3,\n",
    "        4,\n",
    "        1,\n",
    "        1,\n",
    "        2,\n",
    "        3,\n",
    "        4,\n",
    "        1,\n",
    "        1,\n",
    "        2,\n",
    "        3,\n",
    "        4,\n",
    "        1,\n",
    "        1,\n",
    "        2,\n",
    "        4,\n",
    "        4,\n",
    "        5,\n",
    "        1,\n",
    "        2,\n",
    "        4,\n",
    "        4,\n",
    "        5,\n",
    "        1,\n",
    "        2,\n",
    "        4,\n",
    "        4,\n",
    "        5,\n",
    "        1,\n",
    "        2,\n",
    "        4,\n",
    "        4,\n",
    "        5,\n",
    "        1,\n",
    "        2,\n",
    "        3,\n",
    "        4,\n",
    "        5,\n",
    "        1,\n",
    "        2,\n",
    "        3,\n",
    "        4,\n",
    "        5,\n",
    "        1,\n",
    "        2,\n",
    "        3,\n",
    "        4,\n",
    "        5,\n",
    "        1,\n",
    "        2,\n",
    "        3,\n",
    "        4,\n",
    "        5,\n",
    "    ]\n",
    ")"
   ]
  },
  {
   "cell_type": "code",
   "execution_count": null,
   "id": "00890687",
   "metadata": {},
   "outputs": [],
   "source": [
    "pp_matrix(pd.DataFrame(cf_matrix, index=range(1, 42), columns=range(1, 42)))"
   ]
  },
  {
   "cell_type": "code",
   "execution_count": null,
   "id": "1ea46a9a",
   "metadata": {},
   "outputs": [],
   "source": [
    "pp_matrix_from_data(y_test, y_test)"
   ]
  },
  {
   "cell_type": "code",
   "execution_count": null,
   "id": "85b169eb",
   "metadata": {},
   "outputs": [],
   "source": []
  },
  {
   "cell_type": "code",
   "execution_count": null,
   "id": "abe577d3",
   "metadata": {},
   "outputs": [],
   "source": []
  },
  {
   "cell_type": "code",
   "execution_count": null,
   "id": "8e325098",
   "metadata": {},
   "outputs": [],
   "source": []
  },
  {
   "cell_type": "code",
   "execution_count": null,
   "id": "8dfb2c47",
   "metadata": {},
   "outputs": [],
   "source": [
    "cm_family.classes"
   ]
  },
  {
   "cell_type": "code",
   "execution_count": null,
   "id": "2dd63db1",
   "metadata": {},
   "outputs": [],
   "source": [
    "cm_family.class_stat"
   ]
  },
  {
   "cell_type": "code",
   "execution_count": null,
   "id": "105979a7",
   "metadata": {},
   "outputs": [],
   "source": [
    "cm_family.overall_stat"
   ]
  },
  {
   "cell_type": "code",
   "execution_count": null,
   "id": "0029512b",
   "metadata": {},
   "outputs": [],
   "source": [
    "ax = cm_family.plot(normalized=True)\n",
    "_ = ax.figure.set_size_inches((16, 16))\n",
    "_ = plt.xticks(rotation=90)"
   ]
  },
  {
   "cell_type": "code",
   "execution_count": null,
   "id": "aa8dc7d4",
   "metadata": {},
   "outputs": [],
   "source": [
    "cm_family.plot(normalized=True, one_vs_all=True, class_name=\"Other\", number_label=True)"
   ]
  },
  {
   "cell_type": "code",
   "execution_count": null,
   "id": "d8619143",
   "metadata": {},
   "outputs": [],
   "source": [
    "from sklearn.metrics import confusion_matrix"
   ]
  },
  {
   "cell_type": "code",
   "execution_count": null,
   "id": "489fce29",
   "metadata": {},
   "outputs": [],
   "source": [
    "cf_matrix = confusion_matrix(family_y, family_y_hat)"
   ]
  },
  {
   "cell_type": "code",
   "execution_count": null,
   "id": "100bee36",
   "metadata": {},
   "outputs": [],
   "source": [
    "import seaborn as sns\n",
    "\n",
    "plt.figure(figsize=(16, 16), dpi=160)\n",
    "\n",
    "sns.heatmap(cf_matrix / np.sum(cf_matrix), annot=True)"
   ]
  },
  {
   "cell_type": "code",
   "execution_count": null,
   "id": "8f7529fc",
   "metadata": {},
   "outputs": [],
   "source": []
  }
 ],
 "metadata": {
  "kernelspec": {
   "display_name": "Python 3 (ipykernel)",
   "language": "python",
   "name": "python3"
  },
  "language_info": {
   "codemirror_mode": {
    "name": "ipython",
    "version": 3
   },
   "file_extension": ".py",
   "mimetype": "text/x-python",
   "name": "python",
   "nbconvert_exporter": "python",
   "pygments_lexer": "ipython3",
   "version": "3.8.10"
  }
 },
 "nbformat": 4,
 "nbformat_minor": 5
}
