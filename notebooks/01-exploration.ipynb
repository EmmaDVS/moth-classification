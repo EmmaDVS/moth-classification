{
 "cells": [
  {
   "cell_type": "code",
   "execution_count": 1,
   "id": "2788973f-8dc1-490e-9197-4cab4e7a6fa6",
   "metadata": {},
   "outputs": [],
   "source": [
    "from pathlib import Path\n",
    "from collections import defaultdict, Counter\n",
    "\n",
    "import pandas as pd\n",
    "import seaborn as sns\n",
    "from PIL import Image, UnidentifiedImageError"
   ]
  },
  {
   "cell_type": "code",
   "execution_count": 2,
   "id": "14469ead-ab2d-4896-b6a9-21c52b39e35a",
   "metadata": {},
   "outputs": [],
   "source": [
    "data_path_irecord = Path(\"C:/data/nachtvlinderdata/IRecord\")\n",
    "data_path_telmee = Path(\"C:/data/nachtvlinderdata/telmee\")"
   ]
  },
  {
   "cell_type": "markdown",
   "id": "528d95bf-f46f-4e0a-812d-51a405ec8293",
   "metadata": {},
   "source": [
    "# CSVs"
   ]
  },
  {
   "cell_type": "code",
   "execution_count": 3,
   "id": "2b2abe0a-8e01-4406-b584-9d41b07d4f02",
   "metadata": {},
   "outputs": [
    {
     "data": {
      "text/html": [
       "<div>\n",
       "<style scoped>\n",
       "    .dataframe tbody tr th:only-of-type {\n",
       "        vertical-align: middle;\n",
       "    }\n",
       "\n",
       "    .dataframe tbody tr th {\n",
       "        vertical-align: top;\n",
       "    }\n",
       "\n",
       "    .dataframe thead th {\n",
       "        text-align: right;\n",
       "    }\n",
       "</style>\n",
       "<table border=\"1\" class=\"dataframe\">\n",
       "  <thead>\n",
       "    <tr style=\"text-align: right;\">\n",
       "      <th></th>\n",
       "      <th>Unnamed: 0</th>\n",
       "      <th>id</th>\n",
       "      <th>preferred_taxon</th>\n",
       "      <th>default_common_name</th>\n",
       "      <th>path</th>\n",
       "      <th>media_count</th>\n",
       "      <th>taxon_group</th>\n",
       "      <th>order_taxon</th>\n",
       "      <th>record_status</th>\n",
       "    </tr>\n",
       "  </thead>\n",
       "  <tbody>\n",
       "    <tr>\n",
       "      <th>0</th>\n",
       "      <td>1</td>\n",
       "      <td>2286726</td>\n",
       "      <td>Abraxas</td>\n",
       "      <td>NaN</td>\n",
       "      <td>o_19rvf6rou1sth116s1rgv9t4htp8.jpg</td>\n",
       "      <td>1</td>\n",
       "      <td>insect - moth</td>\n",
       "      <td>Lepidoptera</td>\n",
       "      <td>V</td>\n",
       "    </tr>\n",
       "    <tr>\n",
       "      <th>1</th>\n",
       "      <td>2</td>\n",
       "      <td>1121145</td>\n",
       "      <td>Abraxas grossulariata</td>\n",
       "      <td>The Magpie</td>\n",
       "      <td>p18sfqt0v4hst77d1n4m166d1m6qk.jpg</td>\n",
       "      <td>2</td>\n",
       "      <td>Moths</td>\n",
       "      <td>Lepidoptera</td>\n",
       "      <td>V</td>\n",
       "    </tr>\n",
       "    <tr>\n",
       "      <th>2</th>\n",
       "      <td>3</td>\n",
       "      <td>1168709</td>\n",
       "      <td>Abraxas grossulariata</td>\n",
       "      <td>The Magpie</td>\n",
       "      <td>p18t2dqc2o8gajhd1t751tjmmvnb.jpg</td>\n",
       "      <td>2</td>\n",
       "      <td>Moths</td>\n",
       "      <td>Lepidoptera</td>\n",
       "      <td>V</td>\n",
       "    </tr>\n",
       "    <tr>\n",
       "      <th>3</th>\n",
       "      <td>4</td>\n",
       "      <td>3885203</td>\n",
       "      <td>Abraxas grossulariata</td>\n",
       "      <td>Magpie</td>\n",
       "      <td>o_1aq9sn5er8bpddc1mji11mn1joc2e.jpg</td>\n",
       "      <td>1</td>\n",
       "      <td>insect - moth</td>\n",
       "      <td>Lepidoptera</td>\n",
       "      <td>V</td>\n",
       "    </tr>\n",
       "    <tr>\n",
       "      <th>4</th>\n",
       "      <td>5</td>\n",
       "      <td>7402049</td>\n",
       "      <td>Abraxas grossulariata</td>\n",
       "      <td>Magpie</td>\n",
       "      <td>04e6027fd0f70d7741296df7be42a242c4998830.jpg</td>\n",
       "      <td>1</td>\n",
       "      <td>insect - moth</td>\n",
       "      <td>Lepidoptera</td>\n",
       "      <td>C</td>\n",
       "    </tr>\n",
       "  </tbody>\n",
       "</table>\n",
       "</div>"
      ],
      "text/plain": [
       "   Unnamed: 0       id        preferred_taxon default_common_name  \\\n",
       "0           1  2286726                Abraxas                 NaN   \n",
       "1           2  1121145  Abraxas grossulariata          The Magpie   \n",
       "2           3  1168709  Abraxas grossulariata          The Magpie   \n",
       "3           4  3885203  Abraxas grossulariata              Magpie   \n",
       "4           5  7402049  Abraxas grossulariata              Magpie   \n",
       "\n",
       "                                           path  media_count    taxon_group  \\\n",
       "0            o_19rvf6rou1sth116s1rgv9t4htp8.jpg            1  insect - moth   \n",
       "1             p18sfqt0v4hst77d1n4m166d1m6qk.jpg            2          Moths   \n",
       "2              p18t2dqc2o8gajhd1t751tjmmvnb.jpg            2          Moths   \n",
       "3           o_1aq9sn5er8bpddc1mji11mn1joc2e.jpg            1  insect - moth   \n",
       "4  04e6027fd0f70d7741296df7be42a242c4998830.jpg            1  insect - moth   \n",
       "\n",
       "   order_taxon record_status  \n",
       "0  Lepidoptera             V  \n",
       "1  Lepidoptera             V  \n",
       "2  Lepidoptera             V  \n",
       "3  Lepidoptera             V  \n",
       "4  Lepidoptera             C  "
      ]
     },
     "execution_count": 3,
     "metadata": {},
     "output_type": "execute_result"
    }
   ],
   "source": [
    "irecord_df = pd.read_csv(str(data_path_irecord / \"mothsOriginal.csv\"))\n",
    "irecord_df.head()"
   ]
  },
  {
   "cell_type": "code",
   "execution_count": 4,
   "id": "dad6802b-014f-45a9-b855-199c6d9375c7",
   "metadata": {},
   "outputs": [
    {
     "data": {
      "text/html": [
       "<div>\n",
       "<style scoped>\n",
       "    .dataframe tbody tr th:only-of-type {\n",
       "        vertical-align: middle;\n",
       "    }\n",
       "\n",
       "    .dataframe tbody tr th {\n",
       "        vertical-align: top;\n",
       "    }\n",
       "\n",
       "    .dataframe thead th {\n",
       "        text-align: right;\n",
       "    }\n",
       "</style>\n",
       "<table border=\"1\" class=\"dataframe\">\n",
       "  <thead>\n",
       "    <tr style=\"text-align: right;\">\n",
       "      <th></th>\n",
       "      <th>preferred_taxon</th>\n",
       "      <th>default_common_name</th>\n",
       "      <th>taxon_group</th>\n",
       "      <th>order_taxon</th>\n",
       "      <th>record_status</th>\n",
       "    </tr>\n",
       "  </thead>\n",
       "  <tbody>\n",
       "    <tr>\n",
       "      <th>count</th>\n",
       "      <td>110979</td>\n",
       "      <td>109599</td>\n",
       "      <td>110979</td>\n",
       "      <td>110851</td>\n",
       "      <td>110979</td>\n",
       "    </tr>\n",
       "    <tr>\n",
       "      <th>unique</th>\n",
       "      <td>2038</td>\n",
       "      <td>1801</td>\n",
       "      <td>2</td>\n",
       "      <td>1</td>\n",
       "      <td>2</td>\n",
       "    </tr>\n",
       "    <tr>\n",
       "      <th>top</th>\n",
       "      <td>Tyria jacobaeae</td>\n",
       "      <td>Cinnabar</td>\n",
       "      <td>insect - moth</td>\n",
       "      <td>Lepidoptera</td>\n",
       "      <td>V</td>\n",
       "    </tr>\n",
       "    <tr>\n",
       "      <th>freq</th>\n",
       "      <td>1345</td>\n",
       "      <td>1345</td>\n",
       "      <td>89274</td>\n",
       "      <td>110851</td>\n",
       "      <td>67584</td>\n",
       "    </tr>\n",
       "  </tbody>\n",
       "</table>\n",
       "</div>"
      ],
      "text/plain": [
       "        preferred_taxon default_common_name    taxon_group  order_taxon  \\\n",
       "count            110979              109599         110979       110851   \n",
       "unique             2038                1801              2            1   \n",
       "top     Tyria jacobaeae            Cinnabar  insect - moth  Lepidoptera   \n",
       "freq               1345                1345          89274       110851   \n",
       "\n",
       "       record_status  \n",
       "count         110979  \n",
       "unique             2  \n",
       "top                V  \n",
       "freq           67584  "
      ]
     },
     "execution_count": 4,
     "metadata": {},
     "output_type": "execute_result"
    }
   ],
   "source": [
    "irecord_df[[\"preferred_taxon\", \"default_common_name\", \"taxon_group\", \"order_taxon\", \"record_status\"]].describe()"
   ]
  },
  {
   "cell_type": "code",
   "execution_count": 5,
   "id": "d97d47b8-a2f7-4307-b650-2e6724085fbc",
   "metadata": {},
   "outputs": [
    {
     "data": {
      "text/html": [
       "<div>\n",
       "<style scoped>\n",
       "    .dataframe tbody tr th:only-of-type {\n",
       "        vertical-align: middle;\n",
       "    }\n",
       "\n",
       "    .dataframe tbody tr th {\n",
       "        vertical-align: top;\n",
       "    }\n",
       "\n",
       "    .dataframe thead th {\n",
       "        text-align: right;\n",
       "    }\n",
       "</style>\n",
       "<table border=\"1\" class=\"dataframe\">\n",
       "  <thead>\n",
       "    <tr style=\"text-align: right;\">\n",
       "      <th></th>\n",
       "      <th>�..</th>\n",
       "      <th>id</th>\n",
       "      <th>preferred_taxon</th>\n",
       "      <th>default_common_name</th>\n",
       "      <th>path</th>\n",
       "      <th>media_count</th>\n",
       "      <th>taxon_group</th>\n",
       "      <th>order_taxon</th>\n",
       "      <th>record_status</th>\n",
       "      <th>SpeciesLevel</th>\n",
       "      <th>Species_Status</th>\n",
       "      <th>URL</th>\n",
       "      <th>URLExists</th>\n",
       "      <th>downloaded</th>\n",
       "    </tr>\n",
       "  </thead>\n",
       "  <tbody>\n",
       "    <tr>\n",
       "      <th>0</th>\n",
       "      <td>2</td>\n",
       "      <td>1121145</td>\n",
       "      <td>Abraxas_grossulariata</td>\n",
       "      <td>The Magpie</td>\n",
       "      <td>p18sfqt0v4hst77d1n4m166d1m6qk.jpg</td>\n",
       "      <td>2</td>\n",
       "      <td>Moths</td>\n",
       "      <td>Lepidoptera</td>\n",
       "      <td>V</td>\n",
       "      <td>Abraxas grossulariata</td>\n",
       "      <td>Abraxas grossulariata_V</td>\n",
       "      <td>https://warehouse1.indicia.org.uk/upload/p18sf...</td>\n",
       "      <td>NaN</td>\n",
       "      <td>False</td>\n",
       "    </tr>\n",
       "    <tr>\n",
       "      <th>1</th>\n",
       "      <td>3</td>\n",
       "      <td>1168709</td>\n",
       "      <td>Abraxas_grossulariata</td>\n",
       "      <td>The Magpie</td>\n",
       "      <td>p18t2dqc2o8gajhd1t751tjmmvnb.jpg</td>\n",
       "      <td>2</td>\n",
       "      <td>Moths</td>\n",
       "      <td>Lepidoptera</td>\n",
       "      <td>V</td>\n",
       "      <td>Abraxas grossulariata</td>\n",
       "      <td>Abraxas grossulariata_V</td>\n",
       "      <td>https://warehouse1.indicia.org.uk/upload/p18t2...</td>\n",
       "      <td>NaN</td>\n",
       "      <td>False</td>\n",
       "    </tr>\n",
       "    <tr>\n",
       "      <th>2</th>\n",
       "      <td>4</td>\n",
       "      <td>3885203</td>\n",
       "      <td>Abraxas_grossulariata</td>\n",
       "      <td>Magpie</td>\n",
       "      <td>o_1aq9sn5er8bpddc1mji11mn1joc2e.jpg</td>\n",
       "      <td>1</td>\n",
       "      <td>insect - moth</td>\n",
       "      <td>Lepidoptera</td>\n",
       "      <td>V</td>\n",
       "      <td>Abraxas grossulariata</td>\n",
       "      <td>Abraxas grossulariata_V</td>\n",
       "      <td>https://warehouse1.indicia.org.uk/upload/o_1aq...</td>\n",
       "      <td>NaN</td>\n",
       "      <td>False</td>\n",
       "    </tr>\n",
       "    <tr>\n",
       "      <th>3</th>\n",
       "      <td>5</td>\n",
       "      <td>7402049</td>\n",
       "      <td>Abraxas_grossulariata</td>\n",
       "      <td>Magpie</td>\n",
       "      <td>04e6027fd0f70d7741296df7be42a242c4998830.jpg</td>\n",
       "      <td>1</td>\n",
       "      <td>insect - moth</td>\n",
       "      <td>Lepidoptera</td>\n",
       "      <td>C</td>\n",
       "      <td>Abraxas grossulariata</td>\n",
       "      <td>Abraxas grossulariata_C</td>\n",
       "      <td>https://warehouse1.indicia.org.uk/upload/04e60...</td>\n",
       "      <td>NaN</td>\n",
       "      <td>False</td>\n",
       "    </tr>\n",
       "    <tr>\n",
       "      <th>4</th>\n",
       "      <td>6</td>\n",
       "      <td>78549</td>\n",
       "      <td>Abraxas_grossulariata</td>\n",
       "      <td>The Magpie</td>\n",
       "      <td>p174l8pqhmftliq610e01bk61ohm2.jpg</td>\n",
       "      <td>2</td>\n",
       "      <td>Moths</td>\n",
       "      <td>Lepidoptera</td>\n",
       "      <td>V</td>\n",
       "      <td>Abraxas grossulariata</td>\n",
       "      <td>Abraxas grossulariata_V</td>\n",
       "      <td>https://warehouse1.indicia.org.uk/upload/p174l...</td>\n",
       "      <td>NaN</td>\n",
       "      <td>False</td>\n",
       "    </tr>\n",
       "  </tbody>\n",
       "</table>\n",
       "</div>"
      ],
      "text/plain": [
       "  �..       id        preferred_taxon default_common_name  \\\n",
       "0   2  1121145  Abraxas_grossulariata          The Magpie   \n",
       "1   3  1168709  Abraxas_grossulariata          The Magpie   \n",
       "2   4  3885203  Abraxas_grossulariata              Magpie   \n",
       "3   5  7402049  Abraxas_grossulariata              Magpie   \n",
       "4   6    78549  Abraxas_grossulariata          The Magpie   \n",
       "\n",
       "                                           path media_count    taxon_group  \\\n",
       "0             p18sfqt0v4hst77d1n4m166d1m6qk.jpg           2          Moths   \n",
       "1              p18t2dqc2o8gajhd1t751tjmmvnb.jpg           2          Moths   \n",
       "2           o_1aq9sn5er8bpddc1mji11mn1joc2e.jpg           1  insect - moth   \n",
       "3  04e6027fd0f70d7741296df7be42a242c4998830.jpg           1  insect - moth   \n",
       "4             p174l8pqhmftliq610e01bk61ohm2.jpg           2          Moths   \n",
       "\n",
       "   order_taxon record_status           SpeciesLevel           Species_Status  \\\n",
       "0  Lepidoptera             V  Abraxas grossulariata  Abraxas grossulariata_V   \n",
       "1  Lepidoptera             V  Abraxas grossulariata  Abraxas grossulariata_V   \n",
       "2  Lepidoptera             V  Abraxas grossulariata  Abraxas grossulariata_V   \n",
       "3  Lepidoptera             C  Abraxas grossulariata  Abraxas grossulariata_C   \n",
       "4  Lepidoptera             V  Abraxas grossulariata  Abraxas grossulariata_V   \n",
       "\n",
       "                                                 URL  URLExists  downloaded  \n",
       "0  https://warehouse1.indicia.org.uk/upload/p18sf...        NaN       False  \n",
       "1  https://warehouse1.indicia.org.uk/upload/p18t2...        NaN       False  \n",
       "2  https://warehouse1.indicia.org.uk/upload/o_1aq...        NaN       False  \n",
       "3  https://warehouse1.indicia.org.uk/upload/04e60...        NaN       False  \n",
       "4  https://warehouse1.indicia.org.uk/upload/p174l...        NaN       False  "
      ]
     },
     "execution_count": 5,
     "metadata": {},
     "output_type": "execute_result"
    }
   ],
   "source": [
    "irecord_df = pd.read_csv(str(data_path_irecord / \"moths_images\" / \"moths_images.csv\"))\n",
    "irecord_df.head()"
   ]
  },
  {
   "cell_type": "code",
   "execution_count": 6,
   "id": "6192cd69-72d0-458a-ad9d-a5027ea3f5bc",
   "metadata": {},
   "outputs": [
    {
     "data": {
      "text/html": [
       "<div>\n",
       "<style scoped>\n",
       "    .dataframe tbody tr th:only-of-type {\n",
       "        vertical-align: middle;\n",
       "    }\n",
       "\n",
       "    .dataframe tbody tr th {\n",
       "        vertical-align: top;\n",
       "    }\n",
       "\n",
       "    .dataframe thead th {\n",
       "        text-align: right;\n",
       "    }\n",
       "</style>\n",
       "<table border=\"1\" class=\"dataframe\">\n",
       "  <thead>\n",
       "    <tr style=\"text-align: right;\">\n",
       "      <th></th>\n",
       "      <th>preferred_taxon</th>\n",
       "      <th>default_common_name</th>\n",
       "      <th>taxon_group</th>\n",
       "      <th>order_taxon</th>\n",
       "      <th>record_status</th>\n",
       "    </tr>\n",
       "  </thead>\n",
       "  <tbody>\n",
       "    <tr>\n",
       "      <th>count</th>\n",
       "      <td>109918</td>\n",
       "      <td>109433</td>\n",
       "      <td>109887</td>\n",
       "      <td>109792</td>\n",
       "      <td>109916</td>\n",
       "    </tr>\n",
       "    <tr>\n",
       "      <th>unique</th>\n",
       "      <td>1874</td>\n",
       "      <td>1797</td>\n",
       "      <td>8</td>\n",
       "      <td>7</td>\n",
       "      <td>8</td>\n",
       "    </tr>\n",
       "    <tr>\n",
       "      <th>top</th>\n",
       "      <td>Tyria_jacobaeae</td>\n",
       "      <td>Cinnabar</td>\n",
       "      <td>insect - moth</td>\n",
       "      <td>Lepidoptera</td>\n",
       "      <td>V</td>\n",
       "    </tr>\n",
       "    <tr>\n",
       "      <th>freq</th>\n",
       "      <td>1345</td>\n",
       "      <td>1345</td>\n",
       "      <td>88213</td>\n",
       "      <td>109568</td>\n",
       "      <td>67028</td>\n",
       "    </tr>\n",
       "  </tbody>\n",
       "</table>\n",
       "</div>"
      ],
      "text/plain": [
       "        preferred_taxon default_common_name    taxon_group  order_taxon  \\\n",
       "count            109918              109433         109887       109792   \n",
       "unique             1874                1797              8            7   \n",
       "top     Tyria_jacobaeae            Cinnabar  insect - moth  Lepidoptera   \n",
       "freq               1345                1345          88213       109568   \n",
       "\n",
       "       record_status  \n",
       "count         109916  \n",
       "unique             8  \n",
       "top                V  \n",
       "freq           67028  "
      ]
     },
     "execution_count": 6,
     "metadata": {},
     "output_type": "execute_result"
    }
   ],
   "source": [
    "irecord_df[[\"preferred_taxon\", \"default_common_name\", \"taxon_group\", \"order_taxon\", \"record_status\"]].describe()"
   ]
  },
  {
   "cell_type": "code",
   "execution_count": 7,
   "id": "9fcac526-0a25-4af0-9ed6-4f42e834cc7f",
   "metadata": {},
   "outputs": [
    {
     "data": {
      "text/html": [
       "<div>\n",
       "<style scoped>\n",
       "    .dataframe tbody tr th:only-of-type {\n",
       "        vertical-align: middle;\n",
       "    }\n",
       "\n",
       "    .dataframe tbody tr th {\n",
       "        vertical-align: top;\n",
       "    }\n",
       "\n",
       "    .dataframe thead th {\n",
       "        text-align: right;\n",
       "    }\n",
       "</style>\n",
       "<table border=\"1\" class=\"dataframe\">\n",
       "  <thead>\n",
       "    <tr style=\"text-align: right;\">\n",
       "      <th></th>\n",
       "      <th>soort</th>\n",
       "      <th>path</th>\n",
       "      <th>validatiestatus</th>\n",
       "    </tr>\n",
       "  </thead>\n",
       "  <tbody>\n",
       "    <tr>\n",
       "      <th>0</th>\n",
       "      <td>Abraxas grossulariata</td>\n",
       "      <td>https://telmee.nl/uploads/2014/6/98739931_1.jpg</td>\n",
       "      <td>beoordeeld door soortexpert</td>\n",
       "    </tr>\n",
       "    <tr>\n",
       "      <th>1</th>\n",
       "      <td>Abraxas grossulariata</td>\n",
       "      <td>https://telmee.nl/uploads/2014/6/98731231_1.jpg</td>\n",
       "      <td>beoordeeld door soortexpert</td>\n",
       "    </tr>\n",
       "    <tr>\n",
       "      <th>2</th>\n",
       "      <td>Abraxas grossulariata</td>\n",
       "      <td>https://telmee.nl/uploads/2012/6/57516184_1.jpg</td>\n",
       "      <td>beoordeeld door soortexpert</td>\n",
       "    </tr>\n",
       "    <tr>\n",
       "      <th>3</th>\n",
       "      <td>Abraxas grossulariata</td>\n",
       "      <td>https://telmee.nl/uploads/2014/6/98730003_2.jpg</td>\n",
       "      <td>beoordeeld door soortexpert</td>\n",
       "    </tr>\n",
       "    <tr>\n",
       "      <th>4</th>\n",
       "      <td>Abraxas grossulariata</td>\n",
       "      <td>https://telmee.nl/uploads/2013/6/69199783_1.jpg</td>\n",
       "      <td>beoordeeld door soortexpert</td>\n",
       "    </tr>\n",
       "  </tbody>\n",
       "</table>\n",
       "</div>"
      ],
      "text/plain": [
       "                   soort                                             path  \\\n",
       "0  Abraxas grossulariata  https://telmee.nl/uploads/2014/6/98739931_1.jpg   \n",
       "1  Abraxas grossulariata  https://telmee.nl/uploads/2014/6/98731231_1.jpg   \n",
       "2  Abraxas grossulariata  https://telmee.nl/uploads/2012/6/57516184_1.jpg   \n",
       "3  Abraxas grossulariata  https://telmee.nl/uploads/2014/6/98730003_2.jpg   \n",
       "4  Abraxas grossulariata  https://telmee.nl/uploads/2013/6/69199783_1.jpg   \n",
       "\n",
       "               validatiestatus  \n",
       "0  beoordeeld door soortexpert  \n",
       "1  beoordeeld door soortexpert  \n",
       "2  beoordeeld door soortexpert  \n",
       "3  beoordeeld door soortexpert  \n",
       "4  beoordeeld door soortexpert  "
      ]
     },
     "execution_count": 7,
     "metadata": {},
     "output_type": "execute_result"
    }
   ],
   "source": [
    "telmee_df = pd.read_csv(str(data_path_telmee / \"export_ndff3.csv\"))\n",
    "telmee_df.head()"
   ]
  },
  {
   "cell_type": "code",
   "execution_count": 8,
   "id": "8ad7a4cd-2016-41fb-8806-7895cd580967",
   "metadata": {},
   "outputs": [
    {
     "data": {
      "text/html": [
       "<div>\n",
       "<style scoped>\n",
       "    .dataframe tbody tr th:only-of-type {\n",
       "        vertical-align: middle;\n",
       "    }\n",
       "\n",
       "    .dataframe tbody tr th {\n",
       "        vertical-align: top;\n",
       "    }\n",
       "\n",
       "    .dataframe thead th {\n",
       "        text-align: right;\n",
       "    }\n",
       "</style>\n",
       "<table border=\"1\" class=\"dataframe\">\n",
       "  <thead>\n",
       "    <tr style=\"text-align: right;\">\n",
       "      <th></th>\n",
       "      <th>soort</th>\n",
       "      <th>path</th>\n",
       "      <th>validatiestatus</th>\n",
       "    </tr>\n",
       "  </thead>\n",
       "  <tbody>\n",
       "    <tr>\n",
       "      <th>count</th>\n",
       "      <td>69908</td>\n",
       "      <td>69908</td>\n",
       "      <td>69908</td>\n",
       "    </tr>\n",
       "    <tr>\n",
       "      <th>unique</th>\n",
       "      <td>714</td>\n",
       "      <td>69895</td>\n",
       "      <td>7</td>\n",
       "    </tr>\n",
       "    <tr>\n",
       "      <th>top</th>\n",
       "      <td>Autographa gamma</td>\n",
       "      <td>https://telmee.nl/uploads/2008/6/2553707_1.jpg</td>\n",
       "      <td>beoordeeld door soortexpert</td>\n",
       "    </tr>\n",
       "    <tr>\n",
       "      <th>freq</th>\n",
       "      <td>1515</td>\n",
       "      <td>2</td>\n",
       "      <td>68604</td>\n",
       "    </tr>\n",
       "  </tbody>\n",
       "</table>\n",
       "</div>"
      ],
      "text/plain": [
       "                   soort                                            path  \\\n",
       "count              69908                                           69908   \n",
       "unique               714                                           69895   \n",
       "top     Autographa gamma  https://telmee.nl/uploads/2008/6/2553707_1.jpg   \n",
       "freq                1515                                               2   \n",
       "\n",
       "                    validatiestatus  \n",
       "count                         69908  \n",
       "unique                            7  \n",
       "top     beoordeeld door soortexpert  \n",
       "freq                          68604  "
      ]
     },
     "execution_count": 8,
     "metadata": {},
     "output_type": "execute_result"
    }
   ],
   "source": [
    "telmee_df.describe()"
   ]
  },
  {
   "cell_type": "markdown",
   "id": "7acda8d0-4e3f-4222-b363-747b70a7d657",
   "metadata": {},
   "source": [
    "# Image folders"
   ]
  },
  {
   "cell_type": "markdown",
   "id": "e44a0cbd-3eab-4f98-b9b8-7f33090f01c7",
   "metadata": {},
   "source": [
    "## IRecord"
   ]
  },
  {
   "cell_type": "code",
   "execution_count": 9,
   "id": "1b9f0d16-7139-4657-b028-f05f50c0d203",
   "metadata": {},
   "outputs": [
    {
     "data": {
      "text/plain": [
       "1784"
      ]
     },
     "execution_count": 9,
     "metadata": {},
     "output_type": "execute_result"
    }
   ],
   "source": [
    "folder_path_irecord = data_path_irecord / \"moths_images\"\n",
    "len(list(folder_path_irecord.iterdir()))"
   ]
  },
  {
   "cell_type": "code",
   "execution_count": 10,
   "id": "c8e2a23a-6543-4929-b966-067d0081f41e",
   "metadata": {},
   "outputs": [
    {
     "data": {
      "text/plain": [
       "[('Tyria jacobaeae', 1344),\n",
       " ('Autographa gamma', 1272),\n",
       " ('Noctua pronuba', 1063),\n",
       " ('Peribatodes rhomboidaria', 795),\n",
       " ('Phlogophora meticulosa', 779),\n",
       " ('Epiphyas postvittana', 758),\n",
       " ('Opisthograptis luteolata', 755),\n",
       " ('Deilephila elpenor', 753),\n",
       " ('Agrotis exclamationis', 736),\n",
       " ('Dysstroma truncata', 723)]"
      ]
     },
     "execution_count": 10,
     "metadata": {},
     "output_type": "execute_result"
    }
   ],
   "source": [
    "num_images_irecord = Counter({k: v for k, v in {p.name: len(list(p.iterdir())) for p in folder_path_irecord.iterdir() if p.is_dir()}.items() if v > 0})\n",
    "num_images_irecord.most_common(10)"
   ]
  },
  {
   "cell_type": "code",
   "execution_count": 11,
   "id": "d4c7c57a-8ef7-4013-aa0c-136d36b49271",
   "metadata": {},
   "outputs": [
    {
     "data": {
      "text/plain": [
       "<AxesSubplot:ylabel='Count'>"
      ]
     },
     "execution_count": 11,
     "metadata": {},
     "output_type": "execute_result"
    },
    {
     "data": {
      "image/png": "[encoded data removed]",
      "text/plain": [
       "<Figure size 432x288 with 1 Axes>"
      ]
     },
     "metadata": {
      "needs_background": "light"
     },
     "output_type": "display_data"
    }
   ],
   "source": [
    "sns.histplot(num_images_irecord.values())"
   ]
  },
  {
   "cell_type": "code",
   "execution_count": 12,
   "id": "a82d2f88-7602-4323-babb-7c578840a386",
   "metadata": {},
   "outputs": [
    {
     "data": {
      "text/html": [
       "<div>\n",
       "<style scoped>\n",
       "    .dataframe tbody tr th:only-of-type {\n",
       "        vertical-align: middle;\n",
       "    }\n",
       "\n",
       "    .dataframe tbody tr th {\n",
       "        vertical-align: top;\n",
       "    }\n",
       "\n",
       "    .dataframe thead th {\n",
       "        text-align: right;\n",
       "    }\n",
       "</style>\n",
       "<table border=\"1\" class=\"dataframe\">\n",
       "  <thead>\n",
       "    <tr style=\"text-align: right;\">\n",
       "      <th></th>\n",
       "      <th>num images</th>\n",
       "    </tr>\n",
       "  </thead>\n",
       "  <tbody>\n",
       "    <tr>\n",
       "      <th>count</th>\n",
       "      <td>1781.000000</td>\n",
       "    </tr>\n",
       "    <tr>\n",
       "      <th>mean</th>\n",
       "      <td>61.035373</td>\n",
       "    </tr>\n",
       "    <tr>\n",
       "      <th>std</th>\n",
       "      <td>118.860736</td>\n",
       "    </tr>\n",
       "    <tr>\n",
       "      <th>min</th>\n",
       "      <td>1.000000</td>\n",
       "    </tr>\n",
       "    <tr>\n",
       "      <th>25%</th>\n",
       "      <td>3.000000</td>\n",
       "    </tr>\n",
       "    <tr>\n",
       "      <th>50%</th>\n",
       "      <td>15.000000</td>\n",
       "    </tr>\n",
       "    <tr>\n",
       "      <th>75%</th>\n",
       "      <td>58.000000</td>\n",
       "    </tr>\n",
       "    <tr>\n",
       "      <th>max</th>\n",
       "      <td>1344.000000</td>\n",
       "    </tr>\n",
       "  </tbody>\n",
       "</table>\n",
       "</div>"
      ],
      "text/plain": [
       "        num images\n",
       "count  1781.000000\n",
       "mean     61.035373\n",
       "std     118.860736\n",
       "min       1.000000\n",
       "25%       3.000000\n",
       "50%      15.000000\n",
       "75%      58.000000\n",
       "max    1344.000000"
      ]
     },
     "execution_count": 12,
     "metadata": {},
     "output_type": "execute_result"
    }
   ],
   "source": [
    "pd.DataFrame(num_images_irecord.values(), columns=[\"num images\"]).describe()"
   ]
  },
  {
   "cell_type": "code",
   "execution_count": 13,
   "id": "5ee65f58-b907-4655-bc52-3fd7ee91ebea",
   "metadata": {},
   "outputs": [
    {
     "data": {
      "text/plain": [
       "108704"
      ]
     },
     "execution_count": 13,
     "metadata": {},
     "output_type": "execute_result"
    }
   ],
   "source": [
    "sum(num_images_irecord.values())"
   ]
  },
  {
   "cell_type": "code",
   "execution_count": 14,
   "id": "49514800-1515-41be-819a-e0b7c6da202f",
   "metadata": {},
   "outputs": [],
   "source": [
    "# Takes long\n",
    "resolutions_irecord = []\n",
    "for class_path in folder_path_irecord.iterdir():\n",
    "    \n",
    "    if not class_path.is_dir():\n",
    "        continue\n",
    "    \n",
    "    for image_path in class_path.iterdir():\n",
    "        try:\n",
    "            img = Image.open(image_path)\n",
    "        except UnidentifiedImageError:\n",
    "            continue\n",
    "        width, height = img.size\n",
    "        resolutions_irecord.append((width, height))"
   ]
  },
  {
   "cell_type": "code",
   "execution_count": 15,
   "id": "7368f2a1-16e0-43a9-bc2e-ecff1f5c3e72",
   "metadata": {},
   "outputs": [
    {
     "data": {
      "text/html": [
       "<div>\n",
       "<style scoped>\n",
       "    .dataframe tbody tr th:only-of-type {\n",
       "        vertical-align: middle;\n",
       "    }\n",
       "\n",
       "    .dataframe tbody tr th {\n",
       "        vertical-align: top;\n",
       "    }\n",
       "\n",
       "    .dataframe thead th {\n",
       "        text-align: right;\n",
       "    }\n",
       "</style>\n",
       "<table border=\"1\" class=\"dataframe\">\n",
       "  <thead>\n",
       "    <tr style=\"text-align: right;\">\n",
       "      <th></th>\n",
       "      <th>width</th>\n",
       "      <th>height</th>\n",
       "    </tr>\n",
       "  </thead>\n",
       "  <tbody>\n",
       "    <tr>\n",
       "      <th>count</th>\n",
       "      <td>108700.000000</td>\n",
       "      <td>108700.000000</td>\n",
       "    </tr>\n",
       "    <tr>\n",
       "      <th>mean</th>\n",
       "      <td>967.453395</td>\n",
       "      <td>826.783496</td>\n",
       "    </tr>\n",
       "    <tr>\n",
       "      <th>std</th>\n",
       "      <td>137.141030</td>\n",
       "      <td>213.274919</td>\n",
       "    </tr>\n",
       "    <tr>\n",
       "      <th>min</th>\n",
       "      <td>104.000000</td>\n",
       "      <td>104.000000</td>\n",
       "    </tr>\n",
       "    <tr>\n",
       "      <th>25%</th>\n",
       "      <td>1000.000000</td>\n",
       "      <td>685.000000</td>\n",
       "    </tr>\n",
       "    <tr>\n",
       "      <th>50%</th>\n",
       "      <td>1024.000000</td>\n",
       "      <td>768.000000</td>\n",
       "    </tr>\n",
       "    <tr>\n",
       "      <th>75%</th>\n",
       "      <td>1024.000000</td>\n",
       "      <td>960.000000</td>\n",
       "    </tr>\n",
       "    <tr>\n",
       "      <th>max</th>\n",
       "      <td>2816.000000</td>\n",
       "      <td>2574.000000</td>\n",
       "    </tr>\n",
       "  </tbody>\n",
       "</table>\n",
       "</div>"
      ],
      "text/plain": [
       "               width         height\n",
       "count  108700.000000  108700.000000\n",
       "mean      967.453395     826.783496\n",
       "std       137.141030     213.274919\n",
       "min       104.000000     104.000000\n",
       "25%      1000.000000     685.000000\n",
       "50%      1024.000000     768.000000\n",
       "75%      1024.000000     960.000000\n",
       "max      2816.000000    2574.000000"
      ]
     },
     "execution_count": 15,
     "metadata": {},
     "output_type": "execute_result"
    }
   ],
   "source": [
    "resolutions_irecord_df = pd.DataFrame(resolutions_irecord, columns=[\"width\", \"height\"])\n",
    "resolutions_irecord_df.describe()"
   ]
  },
  {
   "cell_type": "code",
   "execution_count": 17,
   "id": "006f9ce6-505d-4399-ad9e-c287b73d9f1a",
   "metadata": {},
   "outputs": [
    {
     "data": {
      "text/plain": [
       "<AxesSubplot:xlabel='width', ylabel='height'>"
      ]
     },
     "execution_count": 17,
     "metadata": {},
     "output_type": "execute_result"
    },
    {
     "data": {
      "image/png": "[encoded data removed]",
      "text/plain": [
       "<Figure size 432x288 with 1 Axes>"
      ]
     },
     "metadata": {
      "needs_background": "light"
     },
     "output_type": "display_data"
    }
   ],
   "source": [
    "sns.scatterplot(data=resolutions_irecord_df, x=\"width\", y=\"height\")"
   ]
  },
  {
   "cell_type": "markdown",
   "id": "78539d47-739d-4f4b-ba34-e90bcf95c702",
   "metadata": {},
   "source": [
    "## Telmee"
   ]
  },
  {
   "cell_type": "code",
   "execution_count": 18,
   "id": "38689bbf-6340-40bc-a27e-f7f4cc59f385",
   "metadata": {},
   "outputs": [
    {
     "data": {
      "text/plain": [
       "714"
      ]
     },
     "execution_count": 18,
     "metadata": {},
     "output_type": "execute_result"
    }
   ],
   "source": [
    "folder_path_telmee = data_path_telmee / \"photos\"\n",
    "len(list(folder_path_telmee.iterdir()))"
   ]
  },
  {
   "cell_type": "code",
   "execution_count": 19,
   "id": "4759af0d-9a23-401c-9da2-a71de3f733f8",
   "metadata": {},
   "outputs": [
    {
     "data": {
      "text/plain": [
       "[('Autographa gamma', 1439),\n",
       " ('Noctua pronuba', 1201),\n",
       " ('Macroglossum stellatarum', 802),\n",
       " ('Erannis defoliaria', 776),\n",
       " ('Peribatodes rhomboidaria', 767),\n",
       " ('Ectropis crepuscularia', 708),\n",
       " ('Idaea aversata', 690),\n",
       " ('Operophtera brumata', 657),\n",
       " ('Phlogophora meticulosa', 613),\n",
       " ('Hypena proboscidalis', 592)]"
      ]
     },
     "execution_count": 19,
     "metadata": {},
     "output_type": "execute_result"
    }
   ],
   "source": [
    "num_images_telmee = Counter({p.name: len(list(p.iterdir())) for p in folder_path_telmee.iterdir()})\n",
    "num_images_telmee.most_common(10)"
   ]
  },
  {
   "cell_type": "code",
   "execution_count": 20,
   "id": "33040bbb-914f-4be9-b3f1-06b53821dd5d",
   "metadata": {},
   "outputs": [
    {
     "data": {
      "text/plain": [
       "<AxesSubplot:ylabel='Count'>"
      ]
     },
     "execution_count": 20,
     "metadata": {},
     "output_type": "execute_result"
    },
    {
     "data": {
      "image/png": "[encoded data removed]",
      "text/plain": [
       "<Figure size 432x288 with 1 Axes>"
      ]
     },
     "metadata": {
      "needs_background": "light"
     },
     "output_type": "display_data"
    }
   ],
   "source": [
    "sns.histplot(num_images_telmee.values())"
   ]
  },
  {
   "cell_type": "code",
   "execution_count": 21,
   "id": "05230273-4048-4223-9594-66766b53c8b6",
   "metadata": {},
   "outputs": [
    {
     "data": {
      "text/html": [
       "<div>\n",
       "<style scoped>\n",
       "    .dataframe tbody tr th:only-of-type {\n",
       "        vertical-align: middle;\n",
       "    }\n",
       "\n",
       "    .dataframe tbody tr th {\n",
       "        vertical-align: top;\n",
       "    }\n",
       "\n",
       "    .dataframe thead th {\n",
       "        text-align: right;\n",
       "    }\n",
       "</style>\n",
       "<table border=\"1\" class=\"dataframe\">\n",
       "  <thead>\n",
       "    <tr style=\"text-align: right;\">\n",
       "      <th></th>\n",
       "      <th>num images</th>\n",
       "    </tr>\n",
       "  </thead>\n",
       "  <tbody>\n",
       "    <tr>\n",
       "      <th>count</th>\n",
       "      <td>714.000000</td>\n",
       "    </tr>\n",
       "    <tr>\n",
       "      <th>mean</th>\n",
       "      <td>95.582633</td>\n",
       "    </tr>\n",
       "    <tr>\n",
       "      <th>std</th>\n",
       "      <td>140.827138</td>\n",
       "    </tr>\n",
       "    <tr>\n",
       "      <th>min</th>\n",
       "      <td>1.000000</td>\n",
       "    </tr>\n",
       "    <tr>\n",
       "      <th>25%</th>\n",
       "      <td>11.250000</td>\n",
       "    </tr>\n",
       "    <tr>\n",
       "      <th>50%</th>\n",
       "      <td>42.000000</td>\n",
       "    </tr>\n",
       "    <tr>\n",
       "      <th>75%</th>\n",
       "      <td>123.750000</td>\n",
       "    </tr>\n",
       "    <tr>\n",
       "      <th>max</th>\n",
       "      <td>1439.000000</td>\n",
       "    </tr>\n",
       "  </tbody>\n",
       "</table>\n",
       "</div>"
      ],
      "text/plain": [
       "        num images\n",
       "count   714.000000\n",
       "mean     95.582633\n",
       "std     140.827138\n",
       "min       1.000000\n",
       "25%      11.250000\n",
       "50%      42.000000\n",
       "75%     123.750000\n",
       "max    1439.000000"
      ]
     },
     "execution_count": 21,
     "metadata": {},
     "output_type": "execute_result"
    }
   ],
   "source": [
    "pd.DataFrame(num_images_telmee.values(), columns=[\"num images\"]).describe()"
   ]
  },
  {
   "cell_type": "code",
   "execution_count": 22,
   "id": "a9092a75-f2be-4cf3-a902-de592f8c50be",
   "metadata": {},
   "outputs": [
    {
     "data": {
      "text/plain": [
       "68246"
      ]
     },
     "execution_count": 22,
     "metadata": {},
     "output_type": "execute_result"
    }
   ],
   "source": [
    "sum(num_images_telmee.values())"
   ]
  },
  {
   "cell_type": "code",
   "execution_count": 23,
   "id": "d9a7c22c-d344-4e25-808b-866c4546627e",
   "metadata": {},
   "outputs": [],
   "source": [
    "# Takes long\n",
    "resolutions_telmee = []\n",
    "for class_path in folder_path_telmee.iterdir():\n",
    "    for image_path in class_path.iterdir():\n",
    "        try:\n",
    "            img = Image.open(image_path)\n",
    "        except (UnidentifiedImageError, PermissionError):\n",
    "            continue\n",
    "        width, height = img.size\n",
    "        resolutions_telmee.append((width, height))"
   ]
  },
  {
   "cell_type": "code",
   "execution_count": 24,
   "id": "3a43515c-ebb0-4c6a-9feb-cad9c9985b08",
   "metadata": {},
   "outputs": [
    {
     "data": {
      "text/html": [
       "<div>\n",
       "<style scoped>\n",
       "    .dataframe tbody tr th:only-of-type {\n",
       "        vertical-align: middle;\n",
       "    }\n",
       "\n",
       "    .dataframe tbody tr th {\n",
       "        vertical-align: top;\n",
       "    }\n",
       "\n",
       "    .dataframe thead th {\n",
       "        text-align: right;\n",
       "    }\n",
       "</style>\n",
       "<table border=\"1\" class=\"dataframe\">\n",
       "  <thead>\n",
       "    <tr style=\"text-align: right;\">\n",
       "      <th></th>\n",
       "      <th>width</th>\n",
       "      <th>height</th>\n",
       "    </tr>\n",
       "  </thead>\n",
       "  <tbody>\n",
       "    <tr>\n",
       "      <th>count</th>\n",
       "      <td>68233.000000</td>\n",
       "      <td>68233.000000</td>\n",
       "    </tr>\n",
       "    <tr>\n",
       "      <th>mean</th>\n",
       "      <td>761.662905</td>\n",
       "      <td>561.223968</td>\n",
       "    </tr>\n",
       "    <tr>\n",
       "      <th>std</th>\n",
       "      <td>116.788536</td>\n",
       "      <td>101.591637</td>\n",
       "    </tr>\n",
       "    <tr>\n",
       "      <th>min</th>\n",
       "      <td>87.000000</td>\n",
       "      <td>88.000000</td>\n",
       "    </tr>\n",
       "    <tr>\n",
       "      <th>25%</th>\n",
       "      <td>800.000000</td>\n",
       "      <td>531.000000</td>\n",
       "    </tr>\n",
       "    <tr>\n",
       "      <th>50%</th>\n",
       "      <td>800.000000</td>\n",
       "      <td>533.000000</td>\n",
       "    </tr>\n",
       "    <tr>\n",
       "      <th>75%</th>\n",
       "      <td>800.000000</td>\n",
       "      <td>600.000000</td>\n",
       "    </tr>\n",
       "    <tr>\n",
       "      <th>max</th>\n",
       "      <td>4288.000000</td>\n",
       "      <td>3888.000000</td>\n",
       "    </tr>\n",
       "  </tbody>\n",
       "</table>\n",
       "</div>"
      ],
      "text/plain": [
       "              width        height\n",
       "count  68233.000000  68233.000000\n",
       "mean     761.662905    561.223968\n",
       "std      116.788536    101.591637\n",
       "min       87.000000     88.000000\n",
       "25%      800.000000    531.000000\n",
       "50%      800.000000    533.000000\n",
       "75%      800.000000    600.000000\n",
       "max     4288.000000   3888.000000"
      ]
     },
     "execution_count": 24,
     "metadata": {},
     "output_type": "execute_result"
    }
   ],
   "source": [
    "resolutions_telmee_df = pd.DataFrame(resolutions_telmee, columns=[\"width\", \"height\"])\n",
    "resolutions_telmee_df.describe()"
   ]
  },
  {
   "cell_type": "code",
   "execution_count": 25,
   "id": "6d7beed1-bef8-49b0-8279-6adba92b283b",
   "metadata": {},
   "outputs": [
    {
     "data": {
      "text/plain": [
       "<AxesSubplot:xlabel='width', ylabel='height'>"
      ]
     },
     "execution_count": 25,
     "metadata": {},
     "output_type": "execute_result"
    },
    {
     "data": {
      "image/png": "[encoded data removed]",
      "text/plain": [
       "<Figure size 432x288 with 1 Axes>"
      ]
     },
     "metadata": {
      "needs_background": "light"
     },
     "output_type": "display_data"
    }
   ],
   "source": [
    "sns.scatterplot(data=resolutions_telmee_df, x=\"width\", y=\"height\")"
   ]
  },
  {
   "cell_type": "markdown",
   "id": "35269926-9722-439f-9b65-19edbc76d7f4",
   "metadata": {},
   "source": [
    "## Merged"
   ]
  },
  {
   "cell_type": "code",
   "execution_count": 26,
   "id": "2384f422-d926-4930-9d4a-1d46c19daf3b",
   "metadata": {},
   "outputs": [
    {
     "data": {
      "text/plain": [
       "176950"
      ]
     },
     "execution_count": 26,
     "metadata": {},
     "output_type": "execute_result"
    }
   ],
   "source": [
    "sum(num_images_telmee.values()) + sum(num_images_irecord.values())"
   ]
  },
  {
   "cell_type": "code",
   "execution_count": 31,
   "id": "df86b584-e449-4638-b7d4-69d32c129aca",
   "metadata": {},
   "outputs": [],
   "source": [
    "classes_irecord = {p.name for p in folder_path_irecord.iterdir()}\n",
    "classes_telmee = {p.name for p in folder_path_telmee.iterdir()}"
   ]
  },
  {
   "cell_type": "code",
   "execution_count": 35,
   "id": "24a9c1d3-a606-48a9-93d1-f3357d8b606e",
   "metadata": {},
   "outputs": [
    {
     "data": {
      "text/plain": [
       "(1784, 714, 1906, 592, 1192, 122)"
      ]
     },
     "execution_count": 35,
     "metadata": {},
     "output_type": "execute_result"
    }
   ],
   "source": [
    "len(classes_irecord), len(classes_telmee), len(classes_irecord | classes_telmee), len(classes_irecord & classes_telmee), len(classes_irecord - classes_telmee),  len(classes_telmee - classes_irecord)"
   ]
  },
  {
   "cell_type": "code",
   "execution_count": 34,
   "id": "c7ee7e60-8fd4-4d1e-a3bc-ab05ae2c5f91",
   "metadata": {},
   "outputs": [
    {
     "data": {
      "text/plain": [
       "[('Autographa gamma', 2711),\n",
       " ('Noctua pronuba', 2264),\n",
       " ('Tyria jacobaeae', 1852),\n",
       " ('Peribatodes rhomboidaria', 1562),\n",
       " ('Phlogophora meticulosa', 1392),\n",
       " ('Idaea aversata', 1325),\n",
       " ('Macroglossum stellatarum', 1301),\n",
       " ('Opisthograptis luteolata', 1268),\n",
       " ('Erannis defoliaria', 1124),\n",
       " ('Agrotis exclamationis', 1093)]"
      ]
     },
     "execution_count": 34,
     "metadata": {},
     "output_type": "execute_result"
    }
   ],
   "source": [
    "num_images_all = num_images_irecord + num_images_telmee\n",
    "num_images_all.most_common(10)"
   ]
  },
  {
   "cell_type": "code",
   "execution_count": 38,
   "id": "7dba4ded-2217-4028-b3ec-e47f8d8608a6",
   "metadata": {},
   "outputs": [
    {
     "data": {
      "text/plain": [
       "<AxesSubplot:ylabel='Count'>"
      ]
     },
     "execution_count": 38,
     "metadata": {},
     "output_type": "execute_result"
    },
    {
     "data": {
      "image/png": "[encoded data removed]",
      "text/plain": [
       "<Figure size 432x288 with 1 Axes>"
      ]
     },
     "metadata": {
      "needs_background": "light"
     },
     "output_type": "display_data"
    }
   ],
   "source": [
    "sns.histplot(num_images_all.values())"
   ]
  },
  {
   "cell_type": "code",
   "execution_count": 39,
   "id": "6db5e3f0-7602-473a-b828-a70e583703f0",
   "metadata": {},
   "outputs": [
    {
     "data": {
      "text/html": [
       "<div>\n",
       "<style scoped>\n",
       "    .dataframe tbody tr th:only-of-type {\n",
       "        vertical-align: middle;\n",
       "    }\n",
       "\n",
       "    .dataframe tbody tr th {\n",
       "        vertical-align: top;\n",
       "    }\n",
       "\n",
       "    .dataframe thead th {\n",
       "        text-align: right;\n",
       "    }\n",
       "</style>\n",
       "<table border=\"1\" class=\"dataframe\">\n",
       "  <thead>\n",
       "    <tr style=\"text-align: right;\">\n",
       "      <th></th>\n",
       "      <th>num images</th>\n",
       "    </tr>\n",
       "  </thead>\n",
       "  <tbody>\n",
       "    <tr>\n",
       "      <th>count</th>\n",
       "      <td>1903.000000</td>\n",
       "    </tr>\n",
       "    <tr>\n",
       "      <th>mean</th>\n",
       "      <td>92.984761</td>\n",
       "    </tr>\n",
       "    <tr>\n",
       "      <th>std</th>\n",
       "      <td>195.264851</td>\n",
       "    </tr>\n",
       "    <tr>\n",
       "      <th>min</th>\n",
       "      <td>1.000000</td>\n",
       "    </tr>\n",
       "    <tr>\n",
       "      <th>25%</th>\n",
       "      <td>4.000000</td>\n",
       "    </tr>\n",
       "    <tr>\n",
       "      <th>50%</th>\n",
       "      <td>20.000000</td>\n",
       "    </tr>\n",
       "    <tr>\n",
       "      <th>75%</th>\n",
       "      <td>89.000000</td>\n",
       "    </tr>\n",
       "    <tr>\n",
       "      <th>max</th>\n",
       "      <td>2711.000000</td>\n",
       "    </tr>\n",
       "  </tbody>\n",
       "</table>\n",
       "</div>"
      ],
      "text/plain": [
       "        num images\n",
       "count  1903.000000\n",
       "mean     92.984761\n",
       "std     195.264851\n",
       "min       1.000000\n",
       "25%       4.000000\n",
       "50%      20.000000\n",
       "75%      89.000000\n",
       "max    2711.000000"
      ]
     },
     "execution_count": 39,
     "metadata": {},
     "output_type": "execute_result"
    }
   ],
   "source": [
    "pd.DataFrame(num_images_all.values(), columns=[\"num images\"]).describe()"
   ]
  },
  {
   "cell_type": "code",
   "execution_count": null,
   "id": "5621d4ff-12fd-4293-bfc2-25d851662d26",
   "metadata": {},
   "outputs": [],
   "source": []
  }
 ],
 "metadata": {
  "kernelspec": {
   "display_name": "Python 3 (ipykernel)",
   "language": "python",
   "name": "python3"
  },
  "language_info": {
   "codemirror_mode": {
    "name": "ipython",
    "version": 3
   },
   "file_extension": ".py",
   "mimetype": "text/x-python",
   "name": "python",
   "nbconvert_exporter": "python",
   "pygments_lexer": "ipython3",
   "version": "3.9.6"
  }
 },
 "nbformat": 4,
 "nbformat_minor": 5
}
