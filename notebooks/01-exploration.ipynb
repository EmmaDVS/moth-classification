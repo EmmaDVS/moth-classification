{
 "cells": [
  {
   "cell_type": "code",
   "execution_count": null,
   "id": "2788973f-8dc1-490e-9197-4cab4e7a6fa6",
   "metadata": {},
   "outputs": [],
   "source": [
    "from pathlib import Path\n",
    "from collections import defaultdict, Counter\n",
    "\n",
    "import pandas as pd\n",
    "import seaborn as sns\n",
    "from PIL import Image, UnidentifiedImageError"
   ]
  },
  {
   "cell_type": "code",
   "execution_count": null,
   "id": "14469ead-ab2d-4896-b6a9-21c52b39e35a",
   "metadata": {},
   "outputs": [],
   "source": [
    "data_path_irecord = Path(\"C:/data/nachtvlinderdata/IRecord\")\n",
    "data_path_telmee = Path(\"C:/data/nachtvlinderdata/telmee\")"
   ]
  },
  {
   "cell_type": "markdown",
   "id": "528d95bf-f46f-4e0a-812d-51a405ec8293",
   "metadata": {},
   "source": [
    "# CSVs"
   ]
  },
  {
   "cell_type": "code",
   "execution_count": null,
   "id": "2b2abe0a-8e01-4406-b584-9d41b07d4f02",
   "metadata": {},
   "outputs": [],
   "source": [
    "irecord_df = pd.read_csv(str(data_path_irecord / \"mothsOriginal.csv\"))\n",
    "irecord_df.head()"
   ]
  },
  {
   "cell_type": "code",
   "execution_count": null,
   "id": "dad6802b-014f-45a9-b855-199c6d9375c7",
   "metadata": {},
   "outputs": [],
   "source": [
    "irecord_df[[\"preferred_taxon\", \"default_common_name\", \"taxon_group\", \"order_taxon\", \"record_status\"]].describe()"
   ]
  },
  {
   "cell_type": "code",
   "execution_count": null,
   "id": "d97d47b8-a2f7-4307-b650-2e6724085fbc",
   "metadata": {},
   "outputs": [],
   "source": [
    "irecord_df = pd.read_csv(str(data_path_irecord / \"moths_images\" / \"moths_images.csv\"))\n",
    "irecord_df.head()"
   ]
  },
  {
   "cell_type": "code",
   "execution_count": null,
   "id": "6192cd69-72d0-458a-ad9d-a5027ea3f5bc",
   "metadata": {},
   "outputs": [],
   "source": [
    "irecord_df[[\"preferred_taxon\", \"default_common_name\", \"taxon_group\", \"order_taxon\", \"record_status\"]].describe()"
   ]
  },
  {
   "cell_type": "code",
   "execution_count": null,
   "id": "9fcac526-0a25-4af0-9ed6-4f42e834cc7f",
   "metadata": {},
   "outputs": [],
   "source": [
    "telmee_df = pd.read_csv(str(data_path_telmee / \"export_ndff3.csv\"))\n",
    "telmee_df.head()"
   ]
  },
  {
   "cell_type": "code",
   "execution_count": null,
   "id": "8ad7a4cd-2016-41fb-8806-7895cd580967",
   "metadata": {},
   "outputs": [],
   "source": [
    "telmee_df.describe()"
   ]
  },
  {
   "cell_type": "markdown",
   "id": "7acda8d0-4e3f-4222-b363-747b70a7d657",
   "metadata": {},
   "source": [
    "# Image folders"
   ]
  },
  {
   "cell_type": "markdown",
   "id": "e44a0cbd-3eab-4f98-b9b8-7f33090f01c7",
   "metadata": {},
   "source": [
    "## IRecord"
   ]
  },
  {
   "cell_type": "code",
   "execution_count": null,
   "id": "1b9f0d16-7139-4657-b028-f05f50c0d203",
   "metadata": {},
   "outputs": [],
   "source": [
    "folder_path_irecord = data_path_irecord / \"moths_images\"\n",
    "len(list(folder_path_irecord.iterdir()))"
   ]
  },
  {
   "cell_type": "code",
   "execution_count": null,
   "id": "c8e2a23a-6543-4929-b966-067d0081f41e",
   "metadata": {},
   "outputs": [],
   "source": [
    "num_images_irecord = Counter({k: v for k, v in {p.name: len(list(p.iterdir())) for p in folder_path_irecord.iterdir() if p.is_dir()}.items() if v > 0})\n",
    "num_images_irecord.most_common(10)"
   ]
  },
  {
   "cell_type": "code",
   "execution_count": null,
   "id": "d4c7c57a-8ef7-4013-aa0c-136d36b49271",
   "metadata": {},
   "outputs": [],
   "source": [
    "sns.histplot(num_images_irecord.values())"
   ]
  },
  {
   "cell_type": "code",
   "execution_count": null,
   "id": "a82d2f88-7602-4323-babb-7c578840a386",
   "metadata": {},
   "outputs": [],
   "source": [
    "pd.DataFrame(num_images_irecord.values(), columns=[\"num images\"]).describe()"
   ]
  },
  {
   "cell_type": "code",
   "execution_count": null,
   "id": "5ee65f58-b907-4655-bc52-3fd7ee91ebea",
   "metadata": {},
   "outputs": [],
   "source": [
    "sum(num_images_irecord.values())"
   ]
  },
  {
   "cell_type": "code",
   "execution_count": null,
   "id": "49514800-1515-41be-819a-e0b7c6da202f",
   "metadata": {},
   "outputs": [],
   "source": [
    "# Takes long\n",
    "resolutions_irecord = []\n",
    "for class_path in folder_path_irecord.iterdir():\n",
    "    \n",
    "    if not class_path.is_dir():\n",
    "        continue\n",
    "    \n",
    "    for image_path in class_path.iterdir():\n",
    "        try:\n",
    "            img = Image.open(image_path)\n",
    "        except UnidentifiedImageError:\n",
    "            continue\n",
    "        width, height = img.size\n",
    "        resolutions_irecord.append((width, height))"
   ]
  },
  {
   "cell_type": "code",
   "execution_count": null,
   "id": "7368f2a1-16e0-43a9-bc2e-ecff1f5c3e72",
   "metadata": {},
   "outputs": [],
   "source": [
    "resolutions_irecord_df = pd.DataFrame(resolutions_irecord, columns=[\"width\", \"height\"])\n",
    "resolutions_irecord_df.describe()"
   ]
  },
  {
   "cell_type": "code",
   "execution_count": null,
   "id": "006f9ce6-505d-4399-ad9e-c287b73d9f1a",
   "metadata": {},
   "outputs": [],
   "source": [
    "sns.scatterplot(data=resolutions_irecord_df, x=\"width\", y=\"height\")"
   ]
  },
  {
   "cell_type": "markdown",
   "id": "78539d47-739d-4f4b-ba34-e90bcf95c702",
   "metadata": {},
   "source": [
    "## Telmee"
   ]
  },
  {
   "cell_type": "code",
   "execution_count": null,
   "id": "38689bbf-6340-40bc-a27e-f7f4cc59f385",
   "metadata": {},
   "outputs": [],
   "source": [
    "folder_path_telmee = data_path_telmee / \"photos\"\n",
    "len(list(folder_path_telmee.iterdir()))"
   ]
  },
  {
   "cell_type": "code",
   "execution_count": null,
   "id": "4759af0d-9a23-401c-9da2-a71de3f733f8",
   "metadata": {},
   "outputs": [],
   "source": [
    "num_images_telmee = Counter({p.name: len(list(p.iterdir())) for p in folder_path_telmee.iterdir()})\n",
    "num_images_telmee.most_common(10)"
   ]
  },
  {
   "cell_type": "code",
   "execution_count": null,
   "id": "33040bbb-914f-4be9-b3f1-06b53821dd5d",
   "metadata": {},
   "outputs": [],
   "source": [
    "sns.histplot(num_images_telmee.values())"
   ]
  },
  {
   "cell_type": "code",
   "execution_count": null,
   "id": "05230273-4048-4223-9594-66766b53c8b6",
   "metadata": {},
   "outputs": [],
   "source": [
    "pd.DataFrame(num_images_telmee.values(), columns=[\"num images\"]).describe()"
   ]
  },
  {
   "cell_type": "code",
   "execution_count": null,
   "id": "a9092a75-f2be-4cf3-a902-de592f8c50be",
   "metadata": {},
   "outputs": [],
   "source": [
    "sum(num_images_telmee.values())"
   ]
  },
  {
   "cell_type": "code",
   "execution_count": null,
   "id": "d9a7c22c-d344-4e25-808b-866c4546627e",
   "metadata": {},
   "outputs": [],
   "source": [
    "# Takes long\n",
    "resolutions_telmee = []\n",
    "for class_path in folder_path_telmee.iterdir():\n",
    "    for image_path in class_path.iterdir():\n",
    "        try:\n",
    "            img = Image.open(image_path)\n",
    "        except (UnidentifiedImageError, PermissionError):\n",
    "            continue\n",
    "        width, height = img.size\n",
    "        resolutions_telmee.append((width, height))"
   ]
  },
  {
   "cell_type": "code",
   "execution_count": null,
   "id": "3a43515c-ebb0-4c6a-9feb-cad9c9985b08",
   "metadata": {},
   "outputs": [],
   "source": [
    "resolutions_telmee_df = pd.DataFrame(resolutions_telmee, columns=[\"width\", \"height\"])\n",
    "resolutions_telmee_df.describe()"
   ]
  },
  {
   "cell_type": "code",
   "execution_count": null,
   "id": "6d7beed1-bef8-49b0-8279-6adba92b283b",
   "metadata": {},
   "outputs": [],
   "source": [
    "sns.scatterplot(data=resolutions_telmee_df, x=\"width\", y=\"height\")"
   ]
  },
  {
   "cell_type": "markdown",
   "id": "35269926-9722-439f-9b65-19edbc76d7f4",
   "metadata": {},
   "source": [
    "## Merged"
   ]
  },
  {
   "cell_type": "code",
   "execution_count": null,
   "id": "2384f422-d926-4930-9d4a-1d46c19daf3b",
   "metadata": {},
   "outputs": [],
   "source": [
    "sum(num_images_telmee.values()) + sum(num_images_irecord.values())"
   ]
  },
  {
   "cell_type": "code",
   "execution_count": null,
   "id": "df86b584-e449-4638-b7d4-69d32c129aca",
   "metadata": {},
   "outputs": [],
   "source": [
    "classes_irecord = {p.name for p in folder_path_irecord.iterdir()}\n",
    "classes_telmee = {p.name for p in folder_path_telmee.iterdir()}"
   ]
  },
  {
   "cell_type": "code",
   "execution_count": null,
   "id": "24a9c1d3-a606-48a9-93d1-f3357d8b606e",
   "metadata": {},
   "outputs": [],
   "source": [
    "len(classes_irecord), len(classes_telmee), len(classes_irecord | classes_telmee), len(classes_irecord & classes_telmee), len(classes_irecord - classes_telmee),  len(classes_telmee - classes_irecord)"
   ]
  },
  {
   "cell_type": "code",
   "execution_count": null,
   "id": "c7ee7e60-8fd4-4d1e-a3bc-ab05ae2c5f91",
   "metadata": {},
   "outputs": [],
   "source": [
    "num_images_all = num_images_irecord + num_images_telmee\n",
    "num_images_all.most_common(10)"
   ]
  },
  {
   "cell_type": "code",
   "execution_count": null,
   "id": "7dba4ded-2217-4028-b3ec-e47f8d8608a6",
   "metadata": {},
   "outputs": [],
   "source": [
    "sns.histplot(num_images_all.values())"
   ]
  },
  {
   "cell_type": "code",
   "execution_count": null,
   "id": "6db5e3f0-7602-473a-b828-a70e583703f0",
   "metadata": {},
   "outputs": [],
   "source": [
    "pd.DataFrame(num_images_all.values(), columns=[\"num images\"]).describe()"
   ]
  },
  {
   "cell_type": "code",
   "execution_count": null,
   "id": "5621d4ff-12fd-4293-bfc2-25d851662d26",
   "metadata": {},
   "outputs": [],
   "source": []
  }
 ],
 "metadata": {
  "kernelspec": {
   "display_name": "Python 3 (ipykernel)",
   "language": "python",
   "name": "python3"
  },
  "language_info": {
   "codemirror_mode": {
    "name": "ipython",
    "version": 3
   },
   "file_extension": ".py",
   "mimetype": "text/x-python",
   "name": "python",
   "nbconvert_exporter": "python",
   "pygments_lexer": "ipython3",
   "version": "3.9.6"
  }
 },
 "nbformat": 4,
 "nbformat_minor": 5
}
