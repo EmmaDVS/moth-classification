{
 "cells": [
  {
   "cell_type": "code",
   "execution_count": null,
   "metadata": {
    "pycharm": {
     "name": "#%%\n"
    }
   },
   "outputs": [],
   "source": [
    "from pathlib import Path\n",
    "\n",
    "import matplotlib.pyplot as plt\n",
    "import numpy as np\n",
    "from torch.utils.data import DataLoader\n",
    "from torchvision.transforms.autoaugment import AutoAugmentPolicy\n",
    "from torchvision.transforms import Compose, \\\n",
    "    CenterCrop, RandomCrop, ToTensor, Resize, FiveCrop, AutoAugment, TrivialAugmentWide\n",
    "\n",
    "from moths.datasets import LabelHierarchyImageFolder\n",
    "from moths.label_hierarchy import label_hierarchy_from_file\n",
    "\n",
    "ROOT_PATH = Path(\"/home/kay/projects/moths/test_data/source_data\")\n",
    "HIERARCHY_PATH = Path(\"/home/kay/projects/moths/data/family.csv\")"
   ]
  },
  {
   "cell_type": "code",
   "execution_count": null,
   "metadata": {
    "pycharm": {
     "name": "#%%\n"
    }
   },
   "outputs": [],
   "source": [
    "tfs = Compose([\n",
    "    TrivialAugmentWide(),\n",
    "    Resize(224),\n",
    "    RandomCrop(224, pad_if_needed=True),\n",
    "    ToTensor()\n",
    "])\n",
    "\n",
    "# tfs = Compose([\n",
    "#     FiveCrop(224),\n",
    "#     ToTensor()\n",
    "# ])"
   ]
  },
  {
   "cell_type": "code",
   "execution_count": null,
   "metadata": {
    "pycharm": {
     "name": "#%%\n"
    }
   },
   "outputs": [],
   "source": [
    "hierarchy = label_hierarchy_from_file(HIERARCHY_PATH, ROOT_PATH, 0)"
   ]
  },
  {
   "cell_type": "code",
   "execution_count": null,
   "metadata": {
    "pycharm": {
     "name": "#%%\n"
    }
   },
   "outputs": [],
   "source": [
    "ds = LabelHierarchyImageFolder(ROOT_PATH, hierarchy, tfs)\n",
    "len(ds)"
   ]
  },
  {
   "cell_type": "code",
   "execution_count": null,
   "metadata": {
    "pycharm": {
     "name": "#%%\n"
    }
   },
   "outputs": [],
   "source": [
    "dl = DataLoader(\n",
    "    ds,\n",
    "    batch_size=9,\n",
    "    num_workers=0,\n",
    "    pin_memory=False,\n",
    "    shuffle=True,\n",
    ")"
   ]
  },
  {
   "cell_type": "code",
   "execution_count": null,
   "metadata": {
    "pycharm": {
     "name": "#%%\n"
    }
   },
   "outputs": [],
   "source": [
    "batch_images, batch_labels = next(iter(dl))\n",
    "batch_images.shape"
   ]
  },
  {
   "cell_type": "code",
   "execution_count": null,
   "metadata": {
    "pycharm": {
     "name": "#%%\n"
    }
   },
   "outputs": [],
   "source": [
    "plt.figure(figsize=(10, 10))\n",
    "\n",
    "for i, (image, label) in enumerate(zip(batch_images, batch_labels)):\n",
    "    ax = plt.subplot(3, 3, i + 1)\n",
    "    image = np.moveaxis(image.numpy(), 0, 2)\n",
    "    plt.imshow(image)\n",
    "    plt.title(label)\n",
    "    plt.axis(\"off\")"
   ]
  }
 ],
 "metadata": {
  "kernelspec": {
   "display_name": "Python 3 (ipykernel)",
   "language": "python",
   "name": "python3"
  },
  "language_info": {
   "codemirror_mode": {
    "name": "ipython",
    "version": 3
   },
   "file_extension": ".py",
   "mimetype": "text/x-python",
   "name": "python",
   "nbconvert_exporter": "python",
   "pygments_lexer": "ipython3",
   "version": "3.8.10"
  }
 },
 "nbformat": 4,
 "nbformat_minor": 1
}
