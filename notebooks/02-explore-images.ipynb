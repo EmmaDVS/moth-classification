{
 "cells": [
  {
   "cell_type": "code",
   "execution_count": null,
   "id": "50da0267-b11f-40b8-98ef-c33a7bb51be7",
   "metadata": {},
   "outputs": [],
   "source": [
    "from pathlib import Path\n",
    "import random\n",
    "\n",
    "from PIL import Image, UnidentifiedImageError\n",
    "import ipyplot"
   ]
  },
  {
   "cell_type": "code",
   "execution_count": null,
   "id": "c52d0610-7c24-4760-8824-624c902498b4",
   "metadata": {},
   "outputs": [],
   "source": [
    "data_path_irecord = Path(\"C:/data/nachtvlinderdata/IRecord\")\n",
    "data_path_telmee = Path(\"C:/data/nachtvlinderdata/telmee\")"
   ]
  },
  {
   "cell_type": "code",
   "execution_count": null,
   "id": "3ad3bf0d-0222-46fa-ba12-f65bf36354c0",
   "metadata": {
    "tags": []
   },
   "outputs": [],
   "source": [
    "def random_path(path):\n",
    "    return random.choice(list(path.iterdir()))"
   ]
  },
  {
   "cell_type": "code",
   "execution_count": null,
   "id": "c0c3e6e6-1dd2-4268-bc3c-030cdca7a9ec",
   "metadata": {},
   "outputs": [],
   "source": [
    "folder_paths_irecord = data_path_irecord / \"moths_images\""
   ]
  },
  {
   "cell_type": "code",
   "execution_count": null,
   "id": "fa7f35e2-d63a-4062-aac0-97e96ed1231f",
   "metadata": {},
   "outputs": [],
   "source": [
    "images = [\n",
    "    Image.open(random_path(random_path(folder_paths_irecord))) for _ in range(100)\n",
    "]\n",
    "ipyplot.plot_images(images, max_images=100)"
   ]
  },
  {
   "cell_type": "code",
   "execution_count": null,
   "id": "057d0dcd-d458-49fc-bcf0-ac790e1c3b1d",
   "metadata": {},
   "outputs": [],
   "source": [
    "folder_path_telmee = data_path_telmee / \"photos\""
   ]
  },
  {
   "cell_type": "code",
   "execution_count": null,
   "id": "3a39544c-cc36-4f99-8d83-cef49bc70063",
   "metadata": {},
   "outputs": [],
   "source": [
    "images = [Image.open(random_path(random_path(folder_path_telmee))) for _ in range(100)]\n",
    "ipyplot.plot_images(images, max_images=100)"
   ]
  },
  {
   "cell_type": "code",
   "execution_count": null,
   "id": "cb59ba44-4b3a-4d2a-bbcd-35caddcbffa5",
   "metadata": {},
   "outputs": [],
   "source": []
  }
 ],
 "metadata": {
  "kernelspec": {
   "display_name": "Python 3",
   "language": "python",
   "name": "python3"
  },
  "language_info": {
   "codemirror_mode": {
    "name": "ipython",
    "version": 3
   },
   "file_extension": ".py",
   "mimetype": "text/x-python",
   "name": "python",
   "nbconvert_exporter": "python",
   "pygments_lexer": "ipython3",
   "version": "3.7.10"
  }
 },
 "nbformat": 4,
 "nbformat_minor": 5
}
